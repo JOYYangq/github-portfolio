{
 "cells": [
  {
   "cell_type": "code",
   "execution_count": 192,
   "id": "5cd05a95",
   "metadata": {},
   "outputs": [],
   "source": [
    "import pandas as pd\n",
    "import numpy as np\n",
    "import matplotlib.pyplot as plt\n",
    "%matplotlib inline\n",
    "import math\n",
    "import sklearn\n",
    "import seaborn as sns\n",
    "import statsmodels.api as sm\n",
    "from sklearn.linear_model import LogisticRegression\n",
    "from sklearn.naive_bayes import GaussianNB\n",
    "from sklearn.neighbors import KNeighborsClassifier\n",
    "from sklearn.model_selection import train_test_split\n",
    "from sklearn.metrics import accuracy_score, f1_score, precision_score, roc_curve, roc_auc_score, precision_recall_curve, confusion_matrix, recall_score\n"
   ]
  },
  {
   "cell_type": "markdown",
   "id": "13395716",
   "metadata": {},
   "source": [
    "# 1. EDA"
   ]
  },
  {
   "cell_type": "code",
   "execution_count": 193,
   "id": "d89b3711",
   "metadata": {},
   "outputs": [],
   "source": [
    "# get data\n",
    "df = pd.read_csv(\"attrition_data_exam.csv\")"
   ]
  },
  {
   "cell_type": "code",
   "execution_count": 194,
   "id": "ac789535",
   "metadata": {},
   "outputs": [
    {
     "data": {
      "text/html": [
       "<div>\n",
       "<style scoped>\n",
       "    .dataframe tbody tr th:only-of-type {\n",
       "        vertical-align: middle;\n",
       "    }\n",
       "\n",
       "    .dataframe tbody tr th {\n",
       "        vertical-align: top;\n",
       "    }\n",
       "\n",
       "    .dataframe thead th {\n",
       "        text-align: right;\n",
       "    }\n",
       "</style>\n",
       "<table border=\"1\" class=\"dataframe\">\n",
       "  <thead>\n",
       "    <tr style=\"text-align: right;\">\n",
       "      <th></th>\n",
       "      <th>Age</th>\n",
       "      <th>Attrition</th>\n",
       "      <th>BusinessTravel</th>\n",
       "      <th>DailyRate($)</th>\n",
       "      <th>Department</th>\n",
       "      <th>DistanceFromHome</th>\n",
       "      <th>Education</th>\n",
       "      <th>EducationField</th>\n",
       "      <th>EmployeeNumber#</th>\n",
       "      <th>EnvironmentSatisfaction</th>\n",
       "      <th>...</th>\n",
       "      <th>PercentSalaryHike</th>\n",
       "      <th>PerformanceRating</th>\n",
       "      <th>StockOptionLevel</th>\n",
       "      <th>TotalWorkingYears</th>\n",
       "      <th>TrainingTimesLastYear</th>\n",
       "      <th>WorkLifeBalance</th>\n",
       "      <th>YearsAtCompany</th>\n",
       "      <th>YearsInCurrentRole</th>\n",
       "      <th>YearsSinceLastPromotion</th>\n",
       "      <th>YearsWithCurrManager</th>\n",
       "    </tr>\n",
       "  </thead>\n",
       "  <tbody>\n",
       "    <tr>\n",
       "      <th>0</th>\n",
       "      <td>41</td>\n",
       "      <td>Yes</td>\n",
       "      <td>Travel_Rarely</td>\n",
       "      <td>1102</td>\n",
       "      <td>Sales</td>\n",
       "      <td>1</td>\n",
       "      <td>2</td>\n",
       "      <td>Life Sciences</td>\n",
       "      <td>1</td>\n",
       "      <td>2</td>\n",
       "      <td>...</td>\n",
       "      <td>11</td>\n",
       "      <td>3</td>\n",
       "      <td>0.0</td>\n",
       "      <td>8.0</td>\n",
       "      <td>0.0</td>\n",
       "      <td>1</td>\n",
       "      <td>6.0</td>\n",
       "      <td>4.0</td>\n",
       "      <td>NaN</td>\n",
       "      <td>5.0</td>\n",
       "    </tr>\n",
       "    <tr>\n",
       "      <th>1</th>\n",
       "      <td>49</td>\n",
       "      <td>No</td>\n",
       "      <td>Travel_Frequently</td>\n",
       "      <td>279</td>\n",
       "      <td>Research &amp; Development</td>\n",
       "      <td>8</td>\n",
       "      <td>1</td>\n",
       "      <td>Life Sciences</td>\n",
       "      <td>2</td>\n",
       "      <td>3</td>\n",
       "      <td>...</td>\n",
       "      <td>23</td>\n",
       "      <td>4</td>\n",
       "      <td>1.0</td>\n",
       "      <td>10.0</td>\n",
       "      <td>3.0</td>\n",
       "      <td>3</td>\n",
       "      <td>10.0</td>\n",
       "      <td>7.0</td>\n",
       "      <td>1.0</td>\n",
       "      <td>7.0</td>\n",
       "    </tr>\n",
       "    <tr>\n",
       "      <th>2</th>\n",
       "      <td>37</td>\n",
       "      <td>Yes</td>\n",
       "      <td>Travel_Rarely</td>\n",
       "      <td>1373</td>\n",
       "      <td>Research &amp; Development</td>\n",
       "      <td>2</td>\n",
       "      <td>2</td>\n",
       "      <td>Other</td>\n",
       "      <td>3</td>\n",
       "      <td>4</td>\n",
       "      <td>...</td>\n",
       "      <td>15</td>\n",
       "      <td>3</td>\n",
       "      <td>0.0</td>\n",
       "      <td>7.0</td>\n",
       "      <td>3.0</td>\n",
       "      <td>3</td>\n",
       "      <td>0.0</td>\n",
       "      <td>0.0</td>\n",
       "      <td>0.0</td>\n",
       "      <td>0.0</td>\n",
       "    </tr>\n",
       "    <tr>\n",
       "      <th>3</th>\n",
       "      <td>33</td>\n",
       "      <td>No</td>\n",
       "      <td>Travel_Frequently</td>\n",
       "      <td>1392</td>\n",
       "      <td>Research &amp; Development</td>\n",
       "      <td>3</td>\n",
       "      <td>4</td>\n",
       "      <td>Life Sciences</td>\n",
       "      <td>4</td>\n",
       "      <td>4</td>\n",
       "      <td>...</td>\n",
       "      <td>11</td>\n",
       "      <td>3</td>\n",
       "      <td>0.0</td>\n",
       "      <td>8.0</td>\n",
       "      <td>3.0</td>\n",
       "      <td>3</td>\n",
       "      <td>8.0</td>\n",
       "      <td>7.0</td>\n",
       "      <td>3.0</td>\n",
       "      <td>0.0</td>\n",
       "    </tr>\n",
       "    <tr>\n",
       "      <th>4</th>\n",
       "      <td>27</td>\n",
       "      <td>No</td>\n",
       "      <td>Travel_Rarely</td>\n",
       "      <td>591</td>\n",
       "      <td>Research &amp; Development</td>\n",
       "      <td>2</td>\n",
       "      <td>1</td>\n",
       "      <td>Medical</td>\n",
       "      <td>5</td>\n",
       "      <td>1</td>\n",
       "      <td>...</td>\n",
       "      <td>12</td>\n",
       "      <td>3</td>\n",
       "      <td>1.0</td>\n",
       "      <td>6.0</td>\n",
       "      <td>3.0</td>\n",
       "      <td>3</td>\n",
       "      <td>2.0</td>\n",
       "      <td>2.0</td>\n",
       "      <td>2.0</td>\n",
       "      <td>2.0</td>\n",
       "    </tr>\n",
       "  </tbody>\n",
       "</table>\n",
       "<p>5 rows × 28 columns</p>\n",
       "</div>"
      ],
      "text/plain": [
       "   Age Attrition     BusinessTravel  DailyRate($)              Department  \\\n",
       "0   41       Yes      Travel_Rarely          1102                   Sales   \n",
       "1   49        No  Travel_Frequently           279  Research & Development   \n",
       "2   37       Yes      Travel_Rarely          1373  Research & Development   \n",
       "3   33        No  Travel_Frequently          1392  Research & Development   \n",
       "4   27        No      Travel_Rarely           591  Research & Development   \n",
       "\n",
       "   DistanceFromHome  Education EducationField  EmployeeNumber#  \\\n",
       "0                 1          2  Life Sciences                1   \n",
       "1                 8          1  Life Sciences                2   \n",
       "2                 2          2          Other                3   \n",
       "3                 3          4  Life Sciences                4   \n",
       "4                 2          1        Medical                5   \n",
       "\n",
       "   EnvironmentSatisfaction  ... PercentSalaryHike  PerformanceRating  \\\n",
       "0                        2  ...                11                  3   \n",
       "1                        3  ...                23                  4   \n",
       "2                        4  ...                15                  3   \n",
       "3                        4  ...                11                  3   \n",
       "4                        1  ...                12                  3   \n",
       "\n",
       "  StockOptionLevel  TotalWorkingYears TrainingTimesLastYear  WorkLifeBalance  \\\n",
       "0              0.0                8.0                   0.0                1   \n",
       "1              1.0               10.0                   3.0                3   \n",
       "2              0.0                7.0                   3.0                3   \n",
       "3              0.0                8.0                   3.0                3   \n",
       "4              1.0                6.0                   3.0                3   \n",
       "\n",
       "   YearsAtCompany YearsInCurrentRole  YearsSinceLastPromotion  \\\n",
       "0             6.0                4.0                      NaN   \n",
       "1            10.0                7.0                      1.0   \n",
       "2             0.0                0.0                      0.0   \n",
       "3             8.0                7.0                      3.0   \n",
       "4             2.0                2.0                      2.0   \n",
       "\n",
       "   YearsWithCurrManager  \n",
       "0                   5.0  \n",
       "1                   7.0  \n",
       "2                   0.0  \n",
       "3                   0.0  \n",
       "4                   2.0  \n",
       "\n",
       "[5 rows x 28 columns]"
      ]
     },
     "execution_count": 194,
     "metadata": {},
     "output_type": "execute_result"
    }
   ],
   "source": [
    "# learn what data have\n",
    "df.head()"
   ]
  },
  {
   "cell_type": "markdown",
   "id": "a73bce80",
   "metadata": {},
   "source": [
    "## process missing value"
   ]
  },
  {
   "cell_type": "code",
   "execution_count": 195,
   "id": "50b7d55c",
   "metadata": {},
   "outputs": [
    {
     "name": "stdout",
     "output_type": "stream",
     "text": [
      "<class 'pandas.core.frame.DataFrame'>\n",
      "RangeIndex: 2418 entries, 0 to 2417\n",
      "Data columns (total 28 columns):\n",
      " #   Column                   Non-Null Count  Dtype  \n",
      "---  ------                   --------------  -----  \n",
      " 0   Age                      2418 non-null   int64  \n",
      " 1   Attrition                2418 non-null   object \n",
      " 2   BusinessTravel           2418 non-null   object \n",
      " 3   DailyRate($)             2418 non-null   int64  \n",
      " 4   Department               2418 non-null   object \n",
      " 5   DistanceFromHome         2418 non-null   int64  \n",
      " 6   Education                2418 non-null   int64  \n",
      " 7   EducationField           2418 non-null   object \n",
      " 8   EmployeeNumber#          2418 non-null   int64  \n",
      " 9   EnvironmentSatisfaction  2418 non-null   int64  \n",
      " 10  Gender                   2418 non-null   object \n",
      " 11  JobLevel                 2418 non-null   int64  \n",
      " 12  Job+Role                 2418 non-null   object \n",
      " 13  JobSatisfaction          2418 non-null   int64  \n",
      " 14  MaritalStatus            2418 non-null   object \n",
      " 15  MonthlyIncome($)         2418 non-null   int64  \n",
      " 16  NumCompaniesWorked#      2398 non-null   float64\n",
      " 17  OverTime                 2418 non-null   object \n",
      " 18  PercentSalaryHike        2418 non-null   int64  \n",
      " 19  PerformanceRating        2418 non-null   int64  \n",
      " 20  StockOptionLevel         2392 non-null   float64\n",
      " 21  TotalWorkingYears        2417 non-null   float64\n",
      " 22  TrainingTimesLastYear    2416 non-null   float64\n",
      " 23  WorkLifeBalance          2418 non-null   int64  \n",
      " 24  YearsAtCompany           2416 non-null   float64\n",
      " 25  YearsInCurrentRole       2410 non-null   float64\n",
      " 26  YearsSinceLastPromotion  2406 non-null   float64\n",
      " 27  YearsWithCurrManager     2415 non-null   float64\n",
      "dtypes: float64(8), int64(12), object(8)\n",
      "memory usage: 529.1+ KB\n"
     ]
    }
   ],
   "source": [
    "# to check whether there is missing value, it have for numcompaines worked#  , stock optionlevel,etc... so it is actually a lot of info is missing \n",
    "df.info()"
   ]
  },
  {
   "cell_type": "code",
   "execution_count": 196,
   "id": "d185cd88",
   "metadata": {},
   "outputs": [
    {
     "data": {
      "text/plain": [
       "2413    2414\n",
       "2414    2415\n",
       "2415    2416\n",
       "2416    2417\n",
       "2417    2418\n",
       "Name: EmployeeNumber#, dtype: int64"
      ]
     },
     "execution_count": 196,
     "metadata": {},
     "output_type": "execute_result"
    }
   ],
   "source": [
    "# and look into the values I saw employeenumber# I want to check if its just employee index\n",
    "df['EmployeeNumber#'].tail() "
   ]
  },
  {
   "cell_type": "code",
   "execution_count": 197,
   "id": "3c1117ff",
   "metadata": {},
   "outputs": [],
   "source": [
    "# will drop the column since it is just index\n",
    "df = df.drop(\"EmployeeNumber#\", axis='columns')\n"
   ]
  },
  {
   "cell_type": "code",
   "execution_count": 198,
   "id": "ab1eb909",
   "metadata": {},
   "outputs": [
    {
     "name": "stdout",
     "output_type": "stream",
     "text": [
      "<class 'pandas.core.frame.DataFrame'>\n",
      "RangeIndex: 2418 entries, 0 to 2417\n",
      "Data columns (total 27 columns):\n",
      " #   Column                   Non-Null Count  Dtype  \n",
      "---  ------                   --------------  -----  \n",
      " 0   Age                      2418 non-null   int64  \n",
      " 1   Attrition                2418 non-null   object \n",
      " 2   BusinessTravel           2418 non-null   object \n",
      " 3   DailyRate($)             2418 non-null   int64  \n",
      " 4   Department               2418 non-null   object \n",
      " 5   DistanceFromHome         2418 non-null   int64  \n",
      " 6   Education                2418 non-null   int64  \n",
      " 7   EducationField           2418 non-null   object \n",
      " 8   EnvironmentSatisfaction  2418 non-null   int64  \n",
      " 9   Gender                   2418 non-null   object \n",
      " 10  JobLevel                 2418 non-null   int64  \n",
      " 11  Job+Role                 2418 non-null   object \n",
      " 12  JobSatisfaction          2418 non-null   int64  \n",
      " 13  MaritalStatus            2418 non-null   object \n",
      " 14  MonthlyIncome($)         2418 non-null   int64  \n",
      " 15  NumCompaniesWorked#      2398 non-null   float64\n",
      " 16  OverTime                 2418 non-null   object \n",
      " 17  PercentSalaryHike        2418 non-null   int64  \n",
      " 18  PerformanceRating        2418 non-null   int64  \n",
      " 19  StockOptionLevel         2392 non-null   float64\n",
      " 20  TotalWorkingYears        2417 non-null   float64\n",
      " 21  TrainingTimesLastYear    2416 non-null   float64\n",
      " 22  WorkLifeBalance          2418 non-null   int64  \n",
      " 23  YearsAtCompany           2416 non-null   float64\n",
      " 24  YearsInCurrentRole       2410 non-null   float64\n",
      " 25  YearsSinceLastPromotion  2406 non-null   float64\n",
      " 26  YearsWithCurrManager     2415 non-null   float64\n",
      "dtypes: float64(8), int64(11), object(8)\n",
      "memory usage: 510.2+ KB\n"
     ]
    }
   ],
   "source": [
    "df.info()"
   ]
  },
  {
   "cell_type": "markdown",
   "id": "574840dd",
   "metadata": {},
   "source": [
    "to check whether there is missing value, it have for numcompaines worked#  , stock optionlevel,etc... so it is actually a lot of info is missing but it is just few of them missing I will add some not large impact data, others will just drop, since it doesn't miss a lot."
   ]
  },
  {
   "cell_type": "code",
   "execution_count": 199,
   "id": "4b64f1cf",
   "metadata": {},
   "outputs": [
    {
     "data": {
      "text/plain": [
       "Attrition\n",
       "No     2.684774\n",
       "Yes    4.258664\n",
       "Name: NumCompaniesWorked#, dtype: float64"
      ]
     },
     "execution_count": 199,
     "metadata": {},
     "output_type": "execute_result"
    }
   ],
   "source": [
    "df.groupby('Attrition')['NumCompaniesWorked#'].mean()"
   ]
  },
  {
   "cell_type": "markdown",
   "id": "9c29a8f4",
   "metadata": {},
   "source": [
    "for example, for the numcompaniesworked# there is a large difference for no or yes, let's group by age to see it affects"
   ]
  },
  {
   "cell_type": "code",
   "execution_count": 200,
   "id": "f0b2da3b",
   "metadata": {},
   "outputs": [
    {
     "data": {
      "text/plain": [
       "Age\n",
       "18    3.321429\n",
       "19    3.391304\n",
       "20    3.709677\n",
       "21    2.666667\n",
       "22    3.000000\n",
       "23    3.820513\n",
       "24    3.000000\n",
       "25    3.472727\n",
       "26    2.290909\n",
       "27    2.421875\n",
       "28    2.333333\n",
       "29    3.043478\n",
       "30    3.179487\n",
       "31    2.817204\n",
       "32    3.387097\n",
       "33    2.753425\n",
       "34    2.639175\n",
       "35    2.663265\n",
       "36    3.538462\n",
       "37    3.500000\n",
       "38    3.213333\n",
       "39    3.531250\n",
       "40    3.960526\n",
       "41    3.838710\n",
       "42    4.422535\n",
       "43    4.185185\n",
       "44    3.387755\n",
       "45    3.623188\n",
       "46    4.543860\n",
       "47    4.277778\n",
       "48    3.718750\n",
       "49    3.795918\n",
       "50    3.555556\n",
       "51    4.660000\n",
       "52    4.177778\n",
       "53    3.911111\n",
       "54    4.263158\n",
       "55    3.780488\n",
       "56    4.243243\n",
       "57    4.727273\n",
       "58    4.432432\n",
       "59    4.633333\n",
       "60    3.444444\n",
       "Name: NumCompaniesWorked#, dtype: float64"
      ]
     },
     "execution_count": 200,
     "metadata": {},
     "output_type": "execute_result"
    }
   ],
   "source": [
    "df.groupby('Age')['NumCompaniesWorked#'].mean() # no major affective on numcompnies worked , will assign by attrition"
   ]
  },
  {
   "cell_type": "code",
   "execution_count": 201,
   "id": "02a30b3b",
   "metadata": {},
   "outputs": [
    {
     "data": {
      "text/plain": [
       "Attrition\n",
       "No     2.0\n",
       "Yes    4.0\n",
       "Name: NumCompaniesWorked#, dtype: float64"
      ]
     },
     "execution_count": 201,
     "metadata": {},
     "output_type": "execute_result"
    }
   ],
   "source": [
    "df.groupby('Attrition')['NumCompaniesWorked#'].median()"
   ]
  },
  {
   "cell_type": "markdown",
   "id": "3b09c28e",
   "metadata": {},
   "source": [
    "It could see no large difference gonna go with median"
   ]
  },
  {
   "cell_type": "code",
   "execution_count": 202,
   "id": "224db8c3",
   "metadata": {},
   "outputs": [],
   "source": [
    "df['NumCompaniesWorked#'] = df['NumCompaniesWorked#'].fillna(df.groupby('Attrition')['NumCompaniesWorked#'].transform('median'))"
   ]
  },
  {
   "cell_type": "markdown",
   "id": "b07311ac",
   "metadata": {},
   "source": [
    "check for stock option"
   ]
  },
  {
   "cell_type": "code",
   "execution_count": 203,
   "id": "750b774a",
   "metadata": {},
   "outputs": [
    {
     "data": {
      "text/plain": [
       "Attrition\n",
       "No     0.859027\n",
       "Yes    1.292621\n",
       "Name: StockOptionLevel, dtype: float64"
      ]
     },
     "execution_count": 203,
     "metadata": {},
     "output_type": "execute_result"
    }
   ],
   "source": [
    "df.groupby('Attrition')['StockOptionLevel'].mean() "
   ]
  },
  {
   "cell_type": "code",
   "execution_count": 204,
   "id": "2d253dcb",
   "metadata": {
    "scrolled": true
   },
   "outputs": [
    {
     "data": {
      "text/plain": [
       "Attrition\n",
       "No     1.0\n",
       "Yes    6.0\n",
       "Name: YearsSinceLastPromotion, dtype: float64"
      ]
     },
     "execution_count": 204,
     "metadata": {},
     "output_type": "execute_result"
    }
   ],
   "source": [
    "df.groupby('Attrition')['YearsSinceLastPromotion'].median()  "
   ]
  },
  {
   "cell_type": "markdown",
   "id": "bcbd2a4a",
   "metadata": {},
   "source": [
    "my understanding for stockoptionlevel is limited so I won't change it"
   ]
  },
  {
   "cell_type": "code",
   "execution_count": 205,
   "id": "f5bc74e3",
   "metadata": {},
   "outputs": [
    {
     "data": {
      "text/plain": [
       "Attrition\n",
       "No     2.248980\n",
       "Yes    6.504657\n",
       "Name: YearsSinceLastPromotion, dtype: float64"
      ]
     },
     "execution_count": 205,
     "metadata": {},
     "output_type": "execute_result"
    }
   ],
   "source": [
    "df.groupby('Attrition')['YearsSinceLastPromotion'].mean()  "
   ]
  },
  {
   "cell_type": "code",
   "execution_count": 206,
   "id": "28bae3c3",
   "metadata": {},
   "outputs": [],
   "source": [
    "# I will fill it with mean"
   ]
  },
  {
   "cell_type": "code",
   "execution_count": 207,
   "id": "7c253d87",
   "metadata": {},
   "outputs": [],
   "source": [
    "df['YearsSinceLastPromotion'] = df['YearsSinceLastPromotion'].fillna(df.groupby('Attrition')['YearsSinceLastPromotion'].transform('mean'))"
   ]
  },
  {
   "cell_type": "code",
   "execution_count": 208,
   "id": "9f9be42e",
   "metadata": {},
   "outputs": [
    {
     "data": {
      "text/plain": [
       "Attrition\n",
       "No     4.498779\n",
       "Yes    7.814564\n",
       "Name: YearsInCurrentRole, dtype: float64"
      ]
     },
     "execution_count": 208,
     "metadata": {},
     "output_type": "execute_result"
    }
   ],
   "source": [
    "df.groupby('Attrition')['YearsInCurrentRole'].mean()  "
   ]
  },
  {
   "cell_type": "code",
   "execution_count": 209,
   "id": "9c5903e4",
   "metadata": {},
   "outputs": [
    {
     "data": {
      "text/plain": [
       "Attrition\n",
       "No     3.0\n",
       "Yes    7.0\n",
       "Name: YearsInCurrentRole, dtype: float64"
      ]
     },
     "execution_count": 209,
     "metadata": {},
     "output_type": "execute_result"
    }
   ],
   "source": [
    "df.groupby('Attrition')['YearsInCurrentRole'].median()  "
   ]
  },
  {
   "cell_type": "code",
   "execution_count": 210,
   "id": "5c66bbbe",
   "metadata": {},
   "outputs": [],
   "source": [
    "df['YearsInCurrentRole'] = df['YearsInCurrentRole'].fillna(df.groupby('Attrition')['YearsInCurrentRole'].transform('mean'))"
   ]
  },
  {
   "cell_type": "code",
   "execution_count": 211,
   "id": "c48b3e06",
   "metadata": {},
   "outputs": [
    {
     "name": "stdout",
     "output_type": "stream",
     "text": [
      "<class 'pandas.core.frame.DataFrame'>\n",
      "RangeIndex: 2418 entries, 0 to 2417\n",
      "Data columns (total 27 columns):\n",
      " #   Column                   Non-Null Count  Dtype  \n",
      "---  ------                   --------------  -----  \n",
      " 0   Age                      2418 non-null   int64  \n",
      " 1   Attrition                2418 non-null   object \n",
      " 2   BusinessTravel           2418 non-null   object \n",
      " 3   DailyRate($)             2418 non-null   int64  \n",
      " 4   Department               2418 non-null   object \n",
      " 5   DistanceFromHome         2418 non-null   int64  \n",
      " 6   Education                2418 non-null   int64  \n",
      " 7   EducationField           2418 non-null   object \n",
      " 8   EnvironmentSatisfaction  2418 non-null   int64  \n",
      " 9   Gender                   2418 non-null   object \n",
      " 10  JobLevel                 2418 non-null   int64  \n",
      " 11  Job+Role                 2418 non-null   object \n",
      " 12  JobSatisfaction          2418 non-null   int64  \n",
      " 13  MaritalStatus            2418 non-null   object \n",
      " 14  MonthlyIncome($)         2418 non-null   int64  \n",
      " 15  NumCompaniesWorked#      2418 non-null   float64\n",
      " 16  OverTime                 2418 non-null   object \n",
      " 17  PercentSalaryHike        2418 non-null   int64  \n",
      " 18  PerformanceRating        2418 non-null   int64  \n",
      " 19  StockOptionLevel         2392 non-null   float64\n",
      " 20  TotalWorkingYears        2417 non-null   float64\n",
      " 21  TrainingTimesLastYear    2416 non-null   float64\n",
      " 22  WorkLifeBalance          2418 non-null   int64  \n",
      " 23  YearsAtCompany           2416 non-null   float64\n",
      " 24  YearsInCurrentRole       2418 non-null   float64\n",
      " 25  YearsSinceLastPromotion  2418 non-null   float64\n",
      " 26  YearsWithCurrManager     2415 non-null   float64\n",
      "dtypes: float64(8), int64(11), object(8)\n",
      "memory usage: 510.2+ KB\n"
     ]
    }
   ],
   "source": [
    "df.info()"
   ]
  },
  {
   "cell_type": "code",
   "execution_count": 212,
   "id": "43f8a408",
   "metadata": {},
   "outputs": [],
   "source": [
    "#since the stock option is not familiar will just drop the na row from hear"
   ]
  },
  {
   "cell_type": "code",
   "execution_count": 213,
   "id": "fedc8e56",
   "metadata": {},
   "outputs": [],
   "source": [
    "df  = df.dropna()"
   ]
  },
  {
   "cell_type": "code",
   "execution_count": 214,
   "id": "31dff3cc",
   "metadata": {},
   "outputs": [
    {
     "name": "stdout",
     "output_type": "stream",
     "text": [
      "<class 'pandas.core.frame.DataFrame'>\n",
      "Int64Index: 2385 entries, 0 to 2417\n",
      "Data columns (total 27 columns):\n",
      " #   Column                   Non-Null Count  Dtype  \n",
      "---  ------                   --------------  -----  \n",
      " 0   Age                      2385 non-null   int64  \n",
      " 1   Attrition                2385 non-null   object \n",
      " 2   BusinessTravel           2385 non-null   object \n",
      " 3   DailyRate($)             2385 non-null   int64  \n",
      " 4   Department               2385 non-null   object \n",
      " 5   DistanceFromHome         2385 non-null   int64  \n",
      " 6   Education                2385 non-null   int64  \n",
      " 7   EducationField           2385 non-null   object \n",
      " 8   EnvironmentSatisfaction  2385 non-null   int64  \n",
      " 9   Gender                   2385 non-null   object \n",
      " 10  JobLevel                 2385 non-null   int64  \n",
      " 11  Job+Role                 2385 non-null   object \n",
      " 12  JobSatisfaction          2385 non-null   int64  \n",
      " 13  MaritalStatus            2385 non-null   object \n",
      " 14  MonthlyIncome($)         2385 non-null   int64  \n",
      " 15  NumCompaniesWorked#      2385 non-null   float64\n",
      " 16  OverTime                 2385 non-null   object \n",
      " 17  PercentSalaryHike        2385 non-null   int64  \n",
      " 18  PerformanceRating        2385 non-null   int64  \n",
      " 19  StockOptionLevel         2385 non-null   float64\n",
      " 20  TotalWorkingYears        2385 non-null   float64\n",
      " 21  TrainingTimesLastYear    2385 non-null   float64\n",
      " 22  WorkLifeBalance          2385 non-null   int64  \n",
      " 23  YearsAtCompany           2385 non-null   float64\n",
      " 24  YearsInCurrentRole       2385 non-null   float64\n",
      " 25  YearsSinceLastPromotion  2385 non-null   float64\n",
      " 26  YearsWithCurrManager     2385 non-null   float64\n",
      "dtypes: float64(8), int64(11), object(8)\n",
      "memory usage: 521.7+ KB\n"
     ]
    }
   ],
   "source": [
    "df.info()"
   ]
  },
  {
   "cell_type": "markdown",
   "id": "6371ec3d",
   "metadata": {},
   "source": [
    "## whether the dataset is balanced?"
   ]
  },
  {
   "cell_type": "code",
   "execution_count": 215,
   "id": "1a82e66f",
   "metadata": {},
   "outputs": [
    {
     "data": {
      "text/html": [
       "<div>\n",
       "<style scoped>\n",
       "    .dataframe tbody tr th:only-of-type {\n",
       "        vertical-align: middle;\n",
       "    }\n",
       "\n",
       "    .dataframe tbody tr th {\n",
       "        vertical-align: top;\n",
       "    }\n",
       "\n",
       "    .dataframe thead th {\n",
       "        text-align: right;\n",
       "    }\n",
       "</style>\n",
       "<table border=\"1\" class=\"dataframe\">\n",
       "  <thead>\n",
       "    <tr style=\"text-align: right;\">\n",
       "      <th></th>\n",
       "      <th>Age</th>\n",
       "      <th>BusinessTravel</th>\n",
       "      <th>DailyRate($)</th>\n",
       "      <th>Department</th>\n",
       "      <th>DistanceFromHome</th>\n",
       "      <th>Education</th>\n",
       "      <th>EducationField</th>\n",
       "      <th>EnvironmentSatisfaction</th>\n",
       "      <th>Gender</th>\n",
       "      <th>JobLevel</th>\n",
       "      <th>...</th>\n",
       "      <th>PercentSalaryHike</th>\n",
       "      <th>PerformanceRating</th>\n",
       "      <th>StockOptionLevel</th>\n",
       "      <th>TotalWorkingYears</th>\n",
       "      <th>TrainingTimesLastYear</th>\n",
       "      <th>WorkLifeBalance</th>\n",
       "      <th>YearsAtCompany</th>\n",
       "      <th>YearsInCurrentRole</th>\n",
       "      <th>YearsSinceLastPromotion</th>\n",
       "      <th>YearsWithCurrManager</th>\n",
       "    </tr>\n",
       "    <tr>\n",
       "      <th>Attrition</th>\n",
       "      <th></th>\n",
       "      <th></th>\n",
       "      <th></th>\n",
       "      <th></th>\n",
       "      <th></th>\n",
       "      <th></th>\n",
       "      <th></th>\n",
       "      <th></th>\n",
       "      <th></th>\n",
       "      <th></th>\n",
       "      <th></th>\n",
       "      <th></th>\n",
       "      <th></th>\n",
       "      <th></th>\n",
       "      <th></th>\n",
       "      <th></th>\n",
       "      <th></th>\n",
       "      <th></th>\n",
       "      <th></th>\n",
       "      <th></th>\n",
       "      <th></th>\n",
       "    </tr>\n",
       "  </thead>\n",
       "  <tbody>\n",
       "    <tr>\n",
       "      <th>No</th>\n",
       "      <td>1210</td>\n",
       "      <td>1210</td>\n",
       "      <td>1210</td>\n",
       "      <td>1210</td>\n",
       "      <td>1210</td>\n",
       "      <td>1210</td>\n",
       "      <td>1210</td>\n",
       "      <td>1210</td>\n",
       "      <td>1210</td>\n",
       "      <td>1210</td>\n",
       "      <td>...</td>\n",
       "      <td>1210</td>\n",
       "      <td>1210</td>\n",
       "      <td>1210</td>\n",
       "      <td>1210</td>\n",
       "      <td>1210</td>\n",
       "      <td>1210</td>\n",
       "      <td>1210</td>\n",
       "      <td>1210</td>\n",
       "      <td>1210</td>\n",
       "      <td>1210</td>\n",
       "    </tr>\n",
       "    <tr>\n",
       "      <th>Yes</th>\n",
       "      <td>1175</td>\n",
       "      <td>1175</td>\n",
       "      <td>1175</td>\n",
       "      <td>1175</td>\n",
       "      <td>1175</td>\n",
       "      <td>1175</td>\n",
       "      <td>1175</td>\n",
       "      <td>1175</td>\n",
       "      <td>1175</td>\n",
       "      <td>1175</td>\n",
       "      <td>...</td>\n",
       "      <td>1175</td>\n",
       "      <td>1175</td>\n",
       "      <td>1175</td>\n",
       "      <td>1175</td>\n",
       "      <td>1175</td>\n",
       "      <td>1175</td>\n",
       "      <td>1175</td>\n",
       "      <td>1175</td>\n",
       "      <td>1175</td>\n",
       "      <td>1175</td>\n",
       "    </tr>\n",
       "  </tbody>\n",
       "</table>\n",
       "<p>2 rows × 26 columns</p>\n",
       "</div>"
      ],
      "text/plain": [
       "            Age  BusinessTravel  DailyRate($)  Department  DistanceFromHome  \\\n",
       "Attrition                                                                     \n",
       "No         1210            1210          1210        1210              1210   \n",
       "Yes        1175            1175          1175        1175              1175   \n",
       "\n",
       "           Education  EducationField  EnvironmentSatisfaction  Gender  \\\n",
       "Attrition                                                               \n",
       "No              1210            1210                     1210    1210   \n",
       "Yes             1175            1175                     1175    1175   \n",
       "\n",
       "           JobLevel  ...  PercentSalaryHike  PerformanceRating  \\\n",
       "Attrition            ...                                         \n",
       "No             1210  ...               1210               1210   \n",
       "Yes            1175  ...               1175               1175   \n",
       "\n",
       "           StockOptionLevel  TotalWorkingYears  TrainingTimesLastYear  \\\n",
       "Attrition                                                               \n",
       "No                     1210               1210                   1210   \n",
       "Yes                    1175               1175                   1175   \n",
       "\n",
       "           WorkLifeBalance  YearsAtCompany  YearsInCurrentRole  \\\n",
       "Attrition                                                        \n",
       "No                    1210            1210                1210   \n",
       "Yes                   1175            1175                1175   \n",
       "\n",
       "           YearsSinceLastPromotion  YearsWithCurrManager  \n",
       "Attrition                                                 \n",
       "No                            1210                  1210  \n",
       "Yes                           1175                  1175  \n",
       "\n",
       "[2 rows x 26 columns]"
      ]
     },
     "execution_count": 215,
     "metadata": {},
     "output_type": "execute_result"
    }
   ],
   "source": [
    "df.groupby(\"Attrition\").count()"
   ]
  },
  {
   "cell_type": "code",
   "execution_count": 216,
   "id": "0ffa79c1",
   "metadata": {},
   "outputs": [
    {
     "data": {
      "text/plain": [
       "<AxesSubplot:ylabel='Attrition'>"
      ]
     },
     "execution_count": 216,
     "metadata": {},
     "output_type": "execute_result"
    },
    {
     "data": {
      "image/png": "[encoded data removed]",
      "text/plain": [
       "<Figure size 640x480 with 1 Axes>"
      ]
     },
     "metadata": {},
     "output_type": "display_data"
    }
   ],
   "source": [
    "df['Attrition'].value_counts().plot.pie(explode=[0,0.1],autopct='%1.1f%%',shadow=True) # very balance"
   ]
  },
  {
   "cell_type": "markdown",
   "id": "2920a509",
   "metadata": {},
   "source": [
    "## comment: it is pretty balance"
   ]
  },
  {
   "cell_type": "markdown",
   "id": "3a1b5863",
   "metadata": {},
   "source": [
    "# will check wether the department is balanced and what info are contained there?"
   ]
  },
  {
   "cell_type": "code",
   "execution_count": 217,
   "id": "088498fb",
   "metadata": {},
   "outputs": [
    {
     "data": {
      "image/png": "[encoded data removed]",
      "text/plain": [
       "<Figure size 1100x700 with 1 Axes>"
      ]
     },
     "metadata": {},
     "output_type": "display_data"
    }
   ],
   "source": [
    "# from here it could found that travel rarely have a high attrition rate\n",
    "plt.figure(figsize=(11,7))\n",
    "ax = sns.countplot(x='BusinessTravel',hue='Attrition',data = df,palette='Set1')"
   ]
  },
  {
   "cell_type": "code",
   "execution_count": 218,
   "id": "f488976e",
   "metadata": {},
   "outputs": [],
   "source": [
    "#check EducationField in the same way"
   ]
  },
  {
   "cell_type": "code",
   "execution_count": 219,
   "id": "87705246",
   "metadata": {},
   "outputs": [
    {
     "data": {
      "image/png": "[encoded data removed]",
      "text/plain": [
       "<Figure size 1100x700 with 1 Axes>"
      ]
     },
     "metadata": {},
     "output_type": "display_data"
    }
   ],
   "source": [
    "# from here it could found that travel rarely have a high attrition rate\n",
    "plt.figure(figsize=(11,7))\n",
    "ax = sns.countplot(x='EducationField',hue='Attrition',data = df,palette='Set1')"
   ]
  },
  {
   "cell_type": "code",
   "execution_count": 220,
   "id": "636c0813",
   "metadata": {},
   "outputs": [
    {
     "name": "stdout",
     "output_type": "stream",
     "text": [
      "[41 49 37 33 27 32 59 30 38 36 35 29 31 34 28 22 24 21 53 42 44 46 39 43\n",
      " 50 26 48 55 45 56 23 51 40 54 58 20 25 19 57 52 47 60 18]\n",
      "['Yes' 'No']\n",
      "['Travel_Rarely' 'Travel_Frequently' 'Non-Travel']\n",
      "[1102  279 1373 ...  875 1007 1430]\n",
      "['Sales' 'Research & Development' 'Human Resources']\n",
      "[ 1  8  2  3 24 23 27 16 15 26 19 21  5 11  9  7  6 10  4 25 12 18 29 22\n",
      " 14 20 28 17 13]\n",
      "[2 1 4 3 5]\n",
      "['Life Sciences' 'Other' 'Medical' 'Marketing' 'Technical Degree'\n",
      " 'Human Resources']\n",
      "[2 3 4 1]\n",
      "['Female' 'Male']\n",
      "[2 1 3 5 4]\n",
      "['Sales Executive' 'Research Scientist' 'Laboratory Technician'\n",
      " 'Manufacturing Director' 'Healthcare Representative'\n",
      " 'Sales Representative' 'Research Director' 'Manager' 'Human Resources']\n",
      "[4 2 3 1]\n",
      "['Single' 'Married' 'Divorced']\n",
      "[5993 5130 2090 ... 3745 2988 4077]\n",
      "[8. 1. 6. 9. 2. 4. 0. 5. 7. 3.]\n",
      "['Yes' 'No']\n",
      "[11 23 15 12 13 20 22 21 17 14 18 16 19 24 25]\n",
      "[3 4]\n",
      "[0. 1. 3. 2.]\n",
      "[ 8. 10.  7.  6. 12.  1. 17.  5.  3. 13.  0. 26. 24. 22.  9. 19.  2. 23.\n",
      " 14. 15.  4. 29. 28. 21. 25. 20. 11. 16. 37. 38. 30. 40. 18. 36. 34. 32.\n",
      " 31. 35. 33. 27. 39.]\n",
      "[0. 3. 2. 5. 1. 4. 6.]\n",
      "[1 3 2 4]\n",
      "[ 6. 10.  0.  8.  2.  7.  1.  9.  5.  4. 12. 14. 22.  3. 15. 27. 21. 17.\n",
      " 11. 13. 37. 16. 25. 20. 40. 24. 33. 19. 36. 18. 31. 32. 34. 26. 29. 30.\n",
      " 23. 39. 38. 28. 35.]\n",
      "[ 4.          7.          0.          2.          4.4987795   5.\n",
      "  9.          3.          6.         13.          1.          8.\n",
      " 15.         14.         16.         11.         10.         12.\n",
      " 18.         17.          7.81456393]\n",
      "[ 6.50465707  1.          0.          3.          2.          7.\n",
      "  4.          8.          5.         15.          9.         13.\n",
      " 12.         10.         11.          6.          2.24897959 14.        ]\n",
      "[ 5.  7.  0.  2.  6.  8.  3. 11. 17.  1.  4. 12.  9. 10. 15. 13. 16. 14.]\n"
     ]
    }
   ],
   "source": [
    "#check unique values\n",
    "for col in df:\n",
    "  print(df[col].unique())"
   ]
  },
  {
   "cell_type": "markdown",
   "id": "7f5af4b8",
   "metadata": {},
   "source": [
    "### job + role is a detial version of department,  compare them to see if I should use the detail"
   ]
  },
  {
   "cell_type": "code",
   "execution_count": 221,
   "id": "7a3723dc",
   "metadata": {},
   "outputs": [
    {
     "data": {
      "text/plain": [
       "(array([0, 1, 2, 3, 4, 5, 6, 7, 8]),\n",
       " [Text(0, 0, 'Sales Executive'),\n",
       "  Text(1, 0, 'Research Scientist'),\n",
       "  Text(2, 0, 'Laboratory Technician'),\n",
       "  Text(3, 0, 'Manufacturing Director'),\n",
       "  Text(4, 0, 'Healthcare Representative'),\n",
       "  Text(5, 0, 'Sales Representative'),\n",
       "  Text(6, 0, 'Research Director'),\n",
       "  Text(7, 0, 'Manager'),\n",
       "  Text(8, 0, 'Human Resources')])"
      ]
     },
     "execution_count": 221,
     "metadata": {},
     "output_type": "execute_result"
    },
    {
     "data": {
      "image/png": "[encoded data removed]",
      "text/plain": [
       "<Figure size 1100x700 with 1 Axes>"
      ]
     },
     "metadata": {},
     "output_type": "display_data"
    }
   ],
   "source": [
    "# job + role have so many, check if it really helps\n",
    "# from here it could found that travel rarely have a high attrition rate\n",
    "plt.figure(figsize=(11,7))\n",
    "ax = sns.countplot(x='Job+Role',hue='Attrition',data = df,palette='Set1')\n",
    "plt.xticks(rotation = 45)"
   ]
  },
  {
   "cell_type": "code",
   "execution_count": 222,
   "id": "1c335a0f",
   "metadata": {},
   "outputs": [
    {
     "data": {
      "image/png": "[encoded data removed]",
      "text/plain": [
       "<Figure size 700x500 with 1 Axes>"
      ]
     },
     "metadata": {},
     "output_type": "display_data"
    }
   ],
   "source": [
    "#want to check if Department cvover this info, however the info is toward \n",
    "#each job I will use job+role to make prediction first and compare with department prediction\n",
    "plt.figure(figsize=(7,5))\n",
    "ax = sns.countplot(x='Department',hue='Attrition',data = df,palette='Set1')"
   ]
  },
  {
   "cell_type": "code",
   "execution_count": 223,
   "id": "2b3e2dab",
   "metadata": {},
   "outputs": [
    {
     "data": {
      "text/plain": [
       "Index(['Age', 'Attrition', 'BusinessTravel', 'DailyRate($)', 'Department',\n",
       "       'DistanceFromHome', 'Education', 'EducationField',\n",
       "       'EnvironmentSatisfaction', 'Gender', 'JobLevel', 'Job+Role',\n",
       "       'JobSatisfaction', 'MaritalStatus', 'MonthlyIncome($)',\n",
       "       'NumCompaniesWorked#', 'OverTime', 'PercentSalaryHike',\n",
       "       'PerformanceRating', 'StockOptionLevel', 'TotalWorkingYears',\n",
       "       'TrainingTimesLastYear', 'WorkLifeBalance', 'YearsAtCompany',\n",
       "       'YearsInCurrentRole', 'YearsSinceLastPromotion',\n",
       "       'YearsWithCurrManager'],\n",
       "      dtype='object')"
      ]
     },
     "execution_count": 223,
     "metadata": {},
     "output_type": "execute_result"
    }
   ],
   "source": [
    "df.columns"
   ]
  },
  {
   "cell_type": "code",
   "execution_count": 224,
   "id": "efe526c7",
   "metadata": {},
   "outputs": [],
   "source": [
    "# will get the number data check on pair plot to see if I could find some clear insights\n",
    "\n",
    "df1 = df[['Age', 'Attrition','DailyRate($)','DistanceFromHome', \"EnvironmentSatisfaction\",'JobSatisfaction','MonthlyIncome($)','NumCompaniesWorked#','PercentSalaryHike',\n",
    "       'PerformanceRating', 'TotalWorkingYears',\n",
    "       'TrainingTimesLastYear', 'WorkLifeBalance', 'YearsAtCompany',\n",
    "       'YearsInCurrentRole', 'YearsSinceLastPromotion',\n",
    "       'YearsWithCurrManager']]"
   ]
  },
  {
   "cell_type": "markdown",
   "id": "0ab572df",
   "metadata": {},
   "source": [
    "## now see if numerical variable have correlation\n",
    "From the heat plot, it shows that 'YearsAtCompany', 'YearsInCurrentRole', 'YearsSinceLastPromotion','YearsWithCurrManager' have a high correlation which make sense with longer worked longer correlation, performance rating with  percentage salary hike."
   ]
  },
  {
   "cell_type": "code",
   "execution_count": 226,
   "id": "b6db0bbe",
   "metadata": {},
   "outputs": [
    {
     "data": {
      "text/plain": [
       "Job+Role\n",
       "Healthcare Representative     8160.240964\n",
       "Human Resources               7799.010204\n",
       "Laboratory Technician         6730.733467\n",
       "Manager                      15843.621849\n",
       "Manufacturing Director        8317.234973\n",
       "Research Director            15333.264368\n",
       "Research Scientist            6188.993671\n",
       "Sales Executive               8401.588665\n",
       "Sales Representative          7705.924528\n",
       "Name: MonthlyIncome($), dtype: float64"
      ]
     },
     "execution_count": 226,
     "metadata": {},
     "output_type": "execute_result"
    }
   ],
   "source": [
    "# check if pay rate is different for each job\n",
    "df.groupby(\"Job+Role\")[\"MonthlyIncome($)\"].mean()"
   ]
  },
  {
   "cell_type": "markdown",
   "id": "f3e3fd14",
   "metadata": {},
   "source": [
    "## check if them have relation with attrition,  how some of the variable could clearly seperated"
   ]
  },
  {
   "cell_type": "code",
   "execution_count": 227,
   "id": "a9acb815",
   "metadata": {},
   "outputs": [
    {
     "data": {
      "text/html": [
       "<div>\n",
       "<style scoped>\n",
       "    .dataframe tbody tr th:only-of-type {\n",
       "        vertical-align: middle;\n",
       "    }\n",
       "\n",
       "    .dataframe tbody tr th {\n",
       "        vertical-align: top;\n",
       "    }\n",
       "\n",
       "    .dataframe thead th {\n",
       "        text-align: right;\n",
       "    }\n",
       "</style>\n",
       "<table border=\"1\" class=\"dataframe\">\n",
       "  <thead>\n",
       "    <tr style=\"text-align: right;\">\n",
       "      <th></th>\n",
       "      <th>Age</th>\n",
       "      <th>Attrition</th>\n",
       "      <th>BusinessTravel</th>\n",
       "      <th>DailyRate($)</th>\n",
       "      <th>Department</th>\n",
       "      <th>DistanceFromHome</th>\n",
       "      <th>Education</th>\n",
       "      <th>EducationField</th>\n",
       "      <th>EnvironmentSatisfaction</th>\n",
       "      <th>Gender</th>\n",
       "      <th>...</th>\n",
       "      <th>PercentSalaryHike</th>\n",
       "      <th>PerformanceRating</th>\n",
       "      <th>StockOptionLevel</th>\n",
       "      <th>TotalWorkingYears</th>\n",
       "      <th>TrainingTimesLastYear</th>\n",
       "      <th>WorkLifeBalance</th>\n",
       "      <th>YearsAtCompany</th>\n",
       "      <th>YearsInCurrentRole</th>\n",
       "      <th>YearsSinceLastPromotion</th>\n",
       "      <th>YearsWithCurrManager</th>\n",
       "    </tr>\n",
       "  </thead>\n",
       "  <tbody>\n",
       "    <tr>\n",
       "      <th>0</th>\n",
       "      <td>41</td>\n",
       "      <td>Yes</td>\n",
       "      <td>Travel_Rarely</td>\n",
       "      <td>1102</td>\n",
       "      <td>Sales</td>\n",
       "      <td>1</td>\n",
       "      <td>2</td>\n",
       "      <td>Life Sciences</td>\n",
       "      <td>2</td>\n",
       "      <td>Female</td>\n",
       "      <td>...</td>\n",
       "      <td>11</td>\n",
       "      <td>3</td>\n",
       "      <td>0.0</td>\n",
       "      <td>8.0</td>\n",
       "      <td>0.0</td>\n",
       "      <td>1</td>\n",
       "      <td>6.0</td>\n",
       "      <td>4.0</td>\n",
       "      <td>6.504657</td>\n",
       "      <td>5.0</td>\n",
       "    </tr>\n",
       "    <tr>\n",
       "      <th>1</th>\n",
       "      <td>49</td>\n",
       "      <td>No</td>\n",
       "      <td>Travel_Frequently</td>\n",
       "      <td>279</td>\n",
       "      <td>Research &amp; Development</td>\n",
       "      <td>8</td>\n",
       "      <td>1</td>\n",
       "      <td>Life Sciences</td>\n",
       "      <td>3</td>\n",
       "      <td>Male</td>\n",
       "      <td>...</td>\n",
       "      <td>23</td>\n",
       "      <td>4</td>\n",
       "      <td>1.0</td>\n",
       "      <td>10.0</td>\n",
       "      <td>3.0</td>\n",
       "      <td>3</td>\n",
       "      <td>10.0</td>\n",
       "      <td>7.0</td>\n",
       "      <td>1.000000</td>\n",
       "      <td>7.0</td>\n",
       "    </tr>\n",
       "    <tr>\n",
       "      <th>2</th>\n",
       "      <td>37</td>\n",
       "      <td>Yes</td>\n",
       "      <td>Travel_Rarely</td>\n",
       "      <td>1373</td>\n",
       "      <td>Research &amp; Development</td>\n",
       "      <td>2</td>\n",
       "      <td>2</td>\n",
       "      <td>Other</td>\n",
       "      <td>4</td>\n",
       "      <td>Male</td>\n",
       "      <td>...</td>\n",
       "      <td>15</td>\n",
       "      <td>3</td>\n",
       "      <td>0.0</td>\n",
       "      <td>7.0</td>\n",
       "      <td>3.0</td>\n",
       "      <td>3</td>\n",
       "      <td>0.0</td>\n",
       "      <td>0.0</td>\n",
       "      <td>0.000000</td>\n",
       "      <td>0.0</td>\n",
       "    </tr>\n",
       "    <tr>\n",
       "      <th>3</th>\n",
       "      <td>33</td>\n",
       "      <td>No</td>\n",
       "      <td>Travel_Frequently</td>\n",
       "      <td>1392</td>\n",
       "      <td>Research &amp; Development</td>\n",
       "      <td>3</td>\n",
       "      <td>4</td>\n",
       "      <td>Life Sciences</td>\n",
       "      <td>4</td>\n",
       "      <td>Female</td>\n",
       "      <td>...</td>\n",
       "      <td>11</td>\n",
       "      <td>3</td>\n",
       "      <td>0.0</td>\n",
       "      <td>8.0</td>\n",
       "      <td>3.0</td>\n",
       "      <td>3</td>\n",
       "      <td>8.0</td>\n",
       "      <td>7.0</td>\n",
       "      <td>3.000000</td>\n",
       "      <td>0.0</td>\n",
       "    </tr>\n",
       "    <tr>\n",
       "      <th>4</th>\n",
       "      <td>27</td>\n",
       "      <td>No</td>\n",
       "      <td>Travel_Rarely</td>\n",
       "      <td>591</td>\n",
       "      <td>Research &amp; Development</td>\n",
       "      <td>2</td>\n",
       "      <td>1</td>\n",
       "      <td>Medical</td>\n",
       "      <td>1</td>\n",
       "      <td>Male</td>\n",
       "      <td>...</td>\n",
       "      <td>12</td>\n",
       "      <td>3</td>\n",
       "      <td>1.0</td>\n",
       "      <td>6.0</td>\n",
       "      <td>3.0</td>\n",
       "      <td>3</td>\n",
       "      <td>2.0</td>\n",
       "      <td>2.0</td>\n",
       "      <td>2.000000</td>\n",
       "      <td>2.0</td>\n",
       "    </tr>\n",
       "  </tbody>\n",
       "</table>\n",
       "<p>5 rows × 27 columns</p>\n",
       "</div>"
      ],
      "text/plain": [
       "   Age Attrition     BusinessTravel  DailyRate($)              Department  \\\n",
       "0   41       Yes      Travel_Rarely          1102                   Sales   \n",
       "1   49        No  Travel_Frequently           279  Research & Development   \n",
       "2   37       Yes      Travel_Rarely          1373  Research & Development   \n",
       "3   33        No  Travel_Frequently          1392  Research & Development   \n",
       "4   27        No      Travel_Rarely           591  Research & Development   \n",
       "\n",
       "   DistanceFromHome  Education EducationField  EnvironmentSatisfaction  \\\n",
       "0                 1          2  Life Sciences                        2   \n",
       "1                 8          1  Life Sciences                        3   \n",
       "2                 2          2          Other                        4   \n",
       "3                 3          4  Life Sciences                        4   \n",
       "4                 2          1        Medical                        1   \n",
       "\n",
       "   Gender  ...  PercentSalaryHike PerformanceRating  StockOptionLevel  \\\n",
       "0  Female  ...                 11                 3               0.0   \n",
       "1    Male  ...                 23                 4               1.0   \n",
       "2    Male  ...                 15                 3               0.0   \n",
       "3  Female  ...                 11                 3               0.0   \n",
       "4    Male  ...                 12                 3               1.0   \n",
       "\n",
       "  TotalWorkingYears  TrainingTimesLastYear  WorkLifeBalance YearsAtCompany  \\\n",
       "0               8.0                    0.0                1            6.0   \n",
       "1              10.0                    3.0                3           10.0   \n",
       "2               7.0                    3.0                3            0.0   \n",
       "3               8.0                    3.0                3            8.0   \n",
       "4               6.0                    3.0                3            2.0   \n",
       "\n",
       "   YearsInCurrentRole  YearsSinceLastPromotion  YearsWithCurrManager  \n",
       "0                 4.0                 6.504657                   5.0  \n",
       "1                 7.0                 1.000000                   7.0  \n",
       "2                 0.0                 0.000000                   0.0  \n",
       "3                 7.0                 3.000000                   0.0  \n",
       "4                 2.0                 2.000000                   2.0  \n",
       "\n",
       "[5 rows x 27 columns]"
      ]
     },
     "execution_count": 227,
     "metadata": {},
     "output_type": "execute_result"
    }
   ],
   "source": [
    "df.head()"
   ]
  },
  {
   "cell_type": "markdown",
   "id": "f02ba592",
   "metadata": {},
   "source": [
    "## change to dummy in this step and will proceed with analysis"
   ]
  },
  {
   "cell_type": "code",
   "execution_count": 228,
   "id": "bfc1d27f",
   "metadata": {},
   "outputs": [],
   "source": [
    "dfdummy = pd.get_dummies(df, columns=[\"BusinessTravel\", \"Department\", \"EducationField\", \"Gender\", \"Job+Role\", \"MaritalStatus\", \"OverTime\"],\n",
    "                         prefix=[\"BT\",\"DP\",\"EF\",\"G\",\"JR\",\"Mstatus\",\"OT\"])"
   ]
  },
  {
   "cell_type": "code",
   "execution_count": 229,
   "id": "df48fd30",
   "metadata": {
    "scrolled": true
   },
   "outputs": [
    {
     "name": "stdout",
     "output_type": "stream",
     "text": [
      "<class 'pandas.core.frame.DataFrame'>\n",
      "Int64Index: 2385 entries, 0 to 2417\n",
      "Data columns (total 48 columns):\n",
      " #   Column                        Non-Null Count  Dtype  \n",
      "---  ------                        --------------  -----  \n",
      " 0   Age                           2385 non-null   int64  \n",
      " 1   Attrition                     2385 non-null   object \n",
      " 2   DailyRate($)                  2385 non-null   int64  \n",
      " 3   DistanceFromHome              2385 non-null   int64  \n",
      " 4   Education                     2385 non-null   int64  \n",
      " 5   EnvironmentSatisfaction       2385 non-null   int64  \n",
      " 6   JobLevel                      2385 non-null   int64  \n",
      " 7   JobSatisfaction               2385 non-null   int64  \n",
      " 8   MonthlyIncome($)              2385 non-null   int64  \n",
      " 9   NumCompaniesWorked#           2385 non-null   float64\n",
      " 10  PercentSalaryHike             2385 non-null   int64  \n",
      " 11  PerformanceRating             2385 non-null   int64  \n",
      " 12  StockOptionLevel              2385 non-null   float64\n",
      " 13  TotalWorkingYears             2385 non-null   float64\n",
      " 14  TrainingTimesLastYear         2385 non-null   float64\n",
      " 15  WorkLifeBalance               2385 non-null   int64  \n",
      " 16  YearsAtCompany                2385 non-null   float64\n",
      " 17  YearsInCurrentRole            2385 non-null   float64\n",
      " 18  YearsSinceLastPromotion       2385 non-null   float64\n",
      " 19  YearsWithCurrManager          2385 non-null   float64\n",
      " 20  BT_Non-Travel                 2385 non-null   uint8  \n",
      " 21  BT_Travel_Frequently          2385 non-null   uint8  \n",
      " 22  BT_Travel_Rarely              2385 non-null   uint8  \n",
      " 23  DP_Human Resources            2385 non-null   uint8  \n",
      " 24  DP_Research & Development     2385 non-null   uint8  \n",
      " 25  DP_Sales                      2385 non-null   uint8  \n",
      " 26  EF_Human Resources            2385 non-null   uint8  \n",
      " 27  EF_Life Sciences              2385 non-null   uint8  \n",
      " 28  EF_Marketing                  2385 non-null   uint8  \n",
      " 29  EF_Medical                    2385 non-null   uint8  \n",
      " 30  EF_Other                      2385 non-null   uint8  \n",
      " 31  EF_Technical Degree           2385 non-null   uint8  \n",
      " 32  G_Female                      2385 non-null   uint8  \n",
      " 33  G_Male                        2385 non-null   uint8  \n",
      " 34  JR_Healthcare Representative  2385 non-null   uint8  \n",
      " 35  JR_Human Resources            2385 non-null   uint8  \n",
      " 36  JR_Laboratory Technician      2385 non-null   uint8  \n",
      " 37  JR_Manager                    2385 non-null   uint8  \n",
      " 38  JR_Manufacturing Director     2385 non-null   uint8  \n",
      " 39  JR_Research Director          2385 non-null   uint8  \n",
      " 40  JR_Research Scientist         2385 non-null   uint8  \n",
      " 41  JR_Sales Executive            2385 non-null   uint8  \n",
      " 42  JR_Sales Representative       2385 non-null   uint8  \n",
      " 43  Mstatus_Divorced              2385 non-null   uint8  \n",
      " 44  Mstatus_Married               2385 non-null   uint8  \n",
      " 45  Mstatus_Single                2385 non-null   uint8  \n",
      " 46  OT_No                         2385 non-null   uint8  \n",
      " 47  OT_Yes                        2385 non-null   uint8  \n",
      "dtypes: float64(8), int64(11), object(1), uint8(28)\n",
      "memory usage: 456.5+ KB\n"
     ]
    }
   ],
   "source": [
    "dfdummy.info()"
   ]
  },
  {
   "cell_type": "code",
   "execution_count": 230,
   "id": "43688ee6",
   "metadata": {},
   "outputs": [],
   "source": [
    "dfdummy['Attrition']=dfdummy['Attrition'].replace('No',0)\n",
    "dfdummy['Attrition']=dfdummy['Attrition'].replace('Yes',1)"
   ]
  },
  {
   "cell_type": "code",
   "execution_count": 231,
   "id": "9ea5b2ef",
   "metadata": {},
   "outputs": [
    {
     "data": {
      "text/html": [
       "<div>\n",
       "<style scoped>\n",
       "    .dataframe tbody tr th:only-of-type {\n",
       "        vertical-align: middle;\n",
       "    }\n",
       "\n",
       "    .dataframe tbody tr th {\n",
       "        vertical-align: top;\n",
       "    }\n",
       "\n",
       "    .dataframe thead th {\n",
       "        text-align: right;\n",
       "    }\n",
       "</style>\n",
       "<table border=\"1\" class=\"dataframe\">\n",
       "  <thead>\n",
       "    <tr style=\"text-align: right;\">\n",
       "      <th></th>\n",
       "      <th>Age</th>\n",
       "      <th>Attrition</th>\n",
       "      <th>DailyRate($)</th>\n",
       "      <th>DistanceFromHome</th>\n",
       "      <th>Education</th>\n",
       "      <th>EnvironmentSatisfaction</th>\n",
       "      <th>JobLevel</th>\n",
       "      <th>JobSatisfaction</th>\n",
       "      <th>MonthlyIncome($)</th>\n",
       "      <th>NumCompaniesWorked#</th>\n",
       "      <th>...</th>\n",
       "      <th>JR_Manufacturing Director</th>\n",
       "      <th>JR_Research Director</th>\n",
       "      <th>JR_Research Scientist</th>\n",
       "      <th>JR_Sales Executive</th>\n",
       "      <th>JR_Sales Representative</th>\n",
       "      <th>Mstatus_Divorced</th>\n",
       "      <th>Mstatus_Married</th>\n",
       "      <th>Mstatus_Single</th>\n",
       "      <th>OT_No</th>\n",
       "      <th>OT_Yes</th>\n",
       "    </tr>\n",
       "  </thead>\n",
       "  <tbody>\n",
       "    <tr>\n",
       "      <th>0</th>\n",
       "      <td>41</td>\n",
       "      <td>1</td>\n",
       "      <td>1102</td>\n",
       "      <td>1</td>\n",
       "      <td>2</td>\n",
       "      <td>2</td>\n",
       "      <td>2</td>\n",
       "      <td>4</td>\n",
       "      <td>5993</td>\n",
       "      <td>8.0</td>\n",
       "      <td>...</td>\n",
       "      <td>0</td>\n",
       "      <td>0</td>\n",
       "      <td>0</td>\n",
       "      <td>1</td>\n",
       "      <td>0</td>\n",
       "      <td>0</td>\n",
       "      <td>0</td>\n",
       "      <td>1</td>\n",
       "      <td>0</td>\n",
       "      <td>1</td>\n",
       "    </tr>\n",
       "    <tr>\n",
       "      <th>1</th>\n",
       "      <td>49</td>\n",
       "      <td>0</td>\n",
       "      <td>279</td>\n",
       "      <td>8</td>\n",
       "      <td>1</td>\n",
       "      <td>3</td>\n",
       "      <td>2</td>\n",
       "      <td>2</td>\n",
       "      <td>5130</td>\n",
       "      <td>1.0</td>\n",
       "      <td>...</td>\n",
       "      <td>0</td>\n",
       "      <td>0</td>\n",
       "      <td>1</td>\n",
       "      <td>0</td>\n",
       "      <td>0</td>\n",
       "      <td>0</td>\n",
       "      <td>1</td>\n",
       "      <td>0</td>\n",
       "      <td>1</td>\n",
       "      <td>0</td>\n",
       "    </tr>\n",
       "    <tr>\n",
       "      <th>2</th>\n",
       "      <td>37</td>\n",
       "      <td>1</td>\n",
       "      <td>1373</td>\n",
       "      <td>2</td>\n",
       "      <td>2</td>\n",
       "      <td>4</td>\n",
       "      <td>1</td>\n",
       "      <td>3</td>\n",
       "      <td>2090</td>\n",
       "      <td>6.0</td>\n",
       "      <td>...</td>\n",
       "      <td>0</td>\n",
       "      <td>0</td>\n",
       "      <td>0</td>\n",
       "      <td>0</td>\n",
       "      <td>0</td>\n",
       "      <td>0</td>\n",
       "      <td>0</td>\n",
       "      <td>1</td>\n",
       "      <td>0</td>\n",
       "      <td>1</td>\n",
       "    </tr>\n",
       "    <tr>\n",
       "      <th>3</th>\n",
       "      <td>33</td>\n",
       "      <td>0</td>\n",
       "      <td>1392</td>\n",
       "      <td>3</td>\n",
       "      <td>4</td>\n",
       "      <td>4</td>\n",
       "      <td>1</td>\n",
       "      <td>3</td>\n",
       "      <td>2909</td>\n",
       "      <td>1.0</td>\n",
       "      <td>...</td>\n",
       "      <td>0</td>\n",
       "      <td>0</td>\n",
       "      <td>1</td>\n",
       "      <td>0</td>\n",
       "      <td>0</td>\n",
       "      <td>0</td>\n",
       "      <td>1</td>\n",
       "      <td>0</td>\n",
       "      <td>0</td>\n",
       "      <td>1</td>\n",
       "    </tr>\n",
       "    <tr>\n",
       "      <th>4</th>\n",
       "      <td>27</td>\n",
       "      <td>0</td>\n",
       "      <td>591</td>\n",
       "      <td>2</td>\n",
       "      <td>1</td>\n",
       "      <td>1</td>\n",
       "      <td>1</td>\n",
       "      <td>2</td>\n",
       "      <td>3468</td>\n",
       "      <td>9.0</td>\n",
       "      <td>...</td>\n",
       "      <td>0</td>\n",
       "      <td>0</td>\n",
       "      <td>0</td>\n",
       "      <td>0</td>\n",
       "      <td>0</td>\n",
       "      <td>0</td>\n",
       "      <td>1</td>\n",
       "      <td>0</td>\n",
       "      <td>1</td>\n",
       "      <td>0</td>\n",
       "    </tr>\n",
       "  </tbody>\n",
       "</table>\n",
       "<p>5 rows × 48 columns</p>\n",
       "</div>"
      ],
      "text/plain": [
       "   Age  Attrition  DailyRate($)  DistanceFromHome  Education  \\\n",
       "0   41          1          1102                 1          2   \n",
       "1   49          0           279                 8          1   \n",
       "2   37          1          1373                 2          2   \n",
       "3   33          0          1392                 3          4   \n",
       "4   27          0           591                 2          1   \n",
       "\n",
       "   EnvironmentSatisfaction  JobLevel  JobSatisfaction  MonthlyIncome($)  \\\n",
       "0                        2         2                4              5993   \n",
       "1                        3         2                2              5130   \n",
       "2                        4         1                3              2090   \n",
       "3                        4         1                3              2909   \n",
       "4                        1         1                2              3468   \n",
       "\n",
       "   NumCompaniesWorked#  ...  JR_Manufacturing Director  JR_Research Director  \\\n",
       "0                  8.0  ...                          0                     0   \n",
       "1                  1.0  ...                          0                     0   \n",
       "2                  6.0  ...                          0                     0   \n",
       "3                  1.0  ...                          0                     0   \n",
       "4                  9.0  ...                          0                     0   \n",
       "\n",
       "   JR_Research Scientist  JR_Sales Executive  JR_Sales Representative  \\\n",
       "0                      0                   1                        0   \n",
       "1                      1                   0                        0   \n",
       "2                      0                   0                        0   \n",
       "3                      1                   0                        0   \n",
       "4                      0                   0                        0   \n",
       "\n",
       "   Mstatus_Divorced  Mstatus_Married  Mstatus_Single  OT_No  OT_Yes  \n",
       "0                 0                0               1      0       1  \n",
       "1                 0                1               0      1       0  \n",
       "2                 0                0               1      0       1  \n",
       "3                 0                1               0      0       1  \n",
       "4                 0                1               0      1       0  \n",
       "\n",
       "[5 rows x 48 columns]"
      ]
     },
     "execution_count": 231,
     "metadata": {},
     "output_type": "execute_result"
    }
   ],
   "source": [
    "dfdummy.head()"
   ]
  },
  {
   "cell_type": "code",
   "execution_count": 232,
   "id": "22be5b53",
   "metadata": {},
   "outputs": [],
   "source": [
    "##Since there two binary category I will just leave one to make it more clear, OT & gender\n",
    "dfdummy = dfdummy.drop([\"OT_No\",\"G_Female\"],axis='columns')"
   ]
  },
  {
   "cell_type": "code",
   "execution_count": 70,
   "id": "f99c19f1",
   "metadata": {},
   "outputs": [
    {
     "name": "stdout",
     "output_type": "stream",
     "text": [
      "<class 'pandas.core.frame.DataFrame'>\n",
      "Int64Index: 2385 entries, 0 to 2417\n",
      "Data columns (total 46 columns):\n",
      " #   Column                        Non-Null Count  Dtype  \n",
      "---  ------                        --------------  -----  \n",
      " 0   Age                           2385 non-null   int64  \n",
      " 1   Attrition                     2385 non-null   int64  \n",
      " 2   DailyRate($)                  2385 non-null   int64  \n",
      " 3   DistanceFromHome              2385 non-null   int64  \n",
      " 4   Education                     2385 non-null   int64  \n",
      " 5   EnvironmentSatisfaction       2385 non-null   int64  \n",
      " 6   JobLevel                      2385 non-null   int64  \n",
      " 7   JobSatisfaction               2385 non-null   int64  \n",
      " 8   MonthlyIncome($)              2385 non-null   int64  \n",
      " 9   NumCompaniesWorked#           2385 non-null   float64\n",
      " 10  PercentSalaryHike             2385 non-null   int64  \n",
      " 11  PerformanceRating             2385 non-null   int64  \n",
      " 12  StockOptionLevel              2385 non-null   float64\n",
      " 13  TotalWorkingYears             2385 non-null   float64\n",
      " 14  TrainingTimesLastYear         2385 non-null   float64\n",
      " 15  WorkLifeBalance               2385 non-null   int64  \n",
      " 16  YearsAtCompany                2385 non-null   float64\n",
      " 17  YearsInCurrentRole            2385 non-null   float64\n",
      " 18  YearsSinceLastPromotion       2385 non-null   float64\n",
      " 19  YearsWithCurrManager          2385 non-null   float64\n",
      " 20  BT_Non-Travel                 2385 non-null   uint8  \n",
      " 21  BT_Travel_Frequently          2385 non-null   uint8  \n",
      " 22  BT_Travel_Rarely              2385 non-null   uint8  \n",
      " 23  DP_Human Resources            2385 non-null   uint8  \n",
      " 24  DP_Research & Development     2385 non-null   uint8  \n",
      " 25  DP_Sales                      2385 non-null   uint8  \n",
      " 26  EF_Human Resources            2385 non-null   uint8  \n",
      " 27  EF_Life Sciences              2385 non-null   uint8  \n",
      " 28  EF_Marketing                  2385 non-null   uint8  \n",
      " 29  EF_Medical                    2385 non-null   uint8  \n",
      " 30  EF_Other                      2385 non-null   uint8  \n",
      " 31  EF_Technical Degree           2385 non-null   uint8  \n",
      " 32  G_Male                        2385 non-null   uint8  \n",
      " 33  JR_Healthcare Representative  2385 non-null   uint8  \n",
      " 34  JR_Human Resources            2385 non-null   uint8  \n",
      " 35  JR_Laboratory Technician      2385 non-null   uint8  \n",
      " 36  JR_Manager                    2385 non-null   uint8  \n",
      " 37  JR_Manufacturing Director     2385 non-null   uint8  \n",
      " 38  JR_Research Director          2385 non-null   uint8  \n",
      " 39  JR_Research Scientist         2385 non-null   uint8  \n",
      " 40  JR_Sales Executive            2385 non-null   uint8  \n",
      " 41  JR_Sales Representative       2385 non-null   uint8  \n",
      " 42  Mstatus_Divorced              2385 non-null   uint8  \n",
      " 43  Mstatus_Married               2385 non-null   uint8  \n",
      " 44  Mstatus_Single                2385 non-null   uint8  \n",
      " 45  OT_Yes                        2385 non-null   uint8  \n",
      "dtypes: float64(8), int64(12), uint8(26)\n",
      "memory usage: 451.8 KB\n"
     ]
    }
   ],
   "source": [
    "dfdummy.info()"
   ]
  },
  {
   "cell_type": "code",
   "execution_count": 71,
   "id": "2de60c55",
   "metadata": {},
   "outputs": [
    {
     "data": {
      "text/plain": [
       "Index(['Age', 'Attrition', 'DailyRate($)', 'DistanceFromHome', 'Education',\n",
       "       'EnvironmentSatisfaction', 'JobLevel', 'JobSatisfaction',\n",
       "       'MonthlyIncome($)', 'NumCompaniesWorked#', 'PercentSalaryHike',\n",
       "       'PerformanceRating', 'StockOptionLevel', 'TotalWorkingYears',\n",
       "       'TrainingTimesLastYear', 'WorkLifeBalance', 'YearsAtCompany',\n",
       "       'YearsInCurrentRole', 'YearsSinceLastPromotion', 'YearsWithCurrManager',\n",
       "       'BT_Non-Travel', 'BT_Travel_Frequently', 'BT_Travel_Rarely',\n",
       "       'DP_Human Resources', 'DP_Research & Development', 'DP_Sales',\n",
       "       'EF_Human Resources', 'EF_Life Sciences', 'EF_Marketing', 'EF_Medical',\n",
       "       'EF_Other', 'EF_Technical Degree', 'G_Male',\n",
       "       'JR_Healthcare Representative', 'JR_Human Resources',\n",
       "       'JR_Laboratory Technician', 'JR_Manager', 'JR_Manufacturing Director',\n",
       "       'JR_Research Director', 'JR_Research Scientist', 'JR_Sales Executive',\n",
       "       'JR_Sales Representative', 'Mstatus_Divorced', 'Mstatus_Married',\n",
       "       'Mstatus_Single', 'OT_Yes'],\n",
       "      dtype='object')"
      ]
     },
     "execution_count": 71,
     "metadata": {},
     "output_type": "execute_result"
    }
   ],
   "source": [
    "dfdummy.columns"
   ]
  },
  {
   "cell_type": "markdown",
   "id": "f4a410f4",
   "metadata": {},
   "source": [
    "## Train-test split"
   ]
  },
  {
   "cell_type": "code",
   "execution_count": 107,
   "id": "085c5df2",
   "metadata": {},
   "outputs": [],
   "source": [
    "X = dfdummy[['Age', 'DailyRate($)', 'DistanceFromHome', 'Education',\\\n",
    "        'EnvironmentSatisfaction', 'JobLevel', 'JobSatisfaction',\\\n",
    "       'MonthlyIncome($)', 'NumCompaniesWorked#', 'PercentSalaryHike',\\\n",
    "       'PerformanceRating', 'StockOptionLevel', 'TotalWorkingYears',\\\n",
    "       'TrainingTimesLastYear', 'WorkLifeBalance', 'YearsAtCompany',\\\n",
    "       'YearsInCurrentRole', 'YearsSinceLastPromotion', 'YearsWithCurrManager',\\\n",
    "       'BT_Non-Travel', 'BT_Travel_Frequently', 'BT_Travel_Rarely',\\\n",
    "       'EF_Human Resources', 'EF_Life Sciences', 'EF_Marketing', 'EF_Medical',\\\n",
    "       'EF_Other', 'EF_Technical Degree', 'G_Male',\\\n",
    "       'JR_Healthcare Representative', 'JR_Human Resources',\\\n",
    "       'JR_Laboratory Technician', 'JR_Manager', 'JR_Manufacturing Director',\\\n",
    "       'JR_Research Director', 'JR_Research Scientist', 'JR_Sales Executive',\\\n",
    "       'JR_Sales Representative', 'Mstatus_Divorced', 'Mstatus_Married',\\\n",
    "       'Mstatus_Single', 'OT_Yes']]\n",
    "Y = dfdummy['Attrition']"
   ]
  },
  {
   "cell_type": "code",
   "execution_count": 109,
   "id": "cf6304d0",
   "metadata": {},
   "outputs": [],
   "source": [
    "from sklearn.preprocessing import StandardScaler\n",
    "X1 = StandardScaler().fit_transform(X)"
   ]
  },
  {
   "cell_type": "code",
   "execution_count": 110,
   "id": "d652e0b3",
   "metadata": {},
   "outputs": [],
   "source": [
    "#split the data by test and train data set, train is used for \n",
    "x_train, x_test, y_train, y_test = train_test_split(X1,Y, test_size=0.3)"
   ]
  },
  {
   "cell_type": "markdown",
   "id": "f20ff0ef",
   "metadata": {},
   "source": [
    "# 2. Model,\n",
    "use calssfication"
   ]
  },
  {
   "cell_type": "code",
   "execution_count": 111,
   "id": "f8ea413d",
   "metadata": {},
   "outputs": [],
   "source": [
    "log = LogisticRegression()\n",
    "nb = GaussianNB()\n",
    "knn = KNeighborsClassifier()"
   ]
  },
  {
   "cell_type": "code",
   "execution_count": 112,
   "id": "245c01f0",
   "metadata": {},
   "outputs": [
    {
     "data": {
      "text/plain": [
       "KNeighborsClassifier()"
      ]
     },
     "execution_count": 112,
     "metadata": {},
     "output_type": "execute_result"
    }
   ],
   "source": [
    "# will compare knn nb and logistic first\n",
    "log.fit(x_train,y_train)\n",
    "nb.fit(x_train,y_train)\n",
    "knn.fit(x_train,y_train)"
   ]
  },
  {
   "cell_type": "code",
   "execution_count": 113,
   "id": "3e20c363",
   "metadata": {},
   "outputs": [],
   "source": [
    "yhat_log = log.predict_proba(x_test)\n",
    "yhat_nb = nb.predict_proba(x_test)\n",
    "yhat_knn = knn.predict(x_test)"
   ]
  },
  {
   "cell_type": "markdown",
   "id": "10edacd1",
   "metadata": {},
   "source": [
    "next we want to see if our prediction is accurate and pick the best model, this step is to fit the test data to our model, with predict we can only see the result however, with predict_proba, we could see the actual probability that the model is predicting"
   ]
  },
  {
   "cell_type": "code",
   "execution_count": 114,
   "id": "27be6afd",
   "metadata": {},
   "outputs": [],
   "source": [
    "yhat_log1 = log.predict(x_test)"
   ]
  },
  {
   "cell_type": "code",
   "execution_count": 115,
   "id": "2a624bd7",
   "metadata": {},
   "outputs": [],
   "source": [
    "fpr, tpr, thresholds = roc_curve(y_test, yhat_log[:,1])\n",
    "fpr_nb, tpr_nb, thresholds_nb = roc_curve(y_test, yhat_nb[:,1])"
   ]
  },
  {
   "cell_type": "code",
   "execution_count": 116,
   "id": "602ecf97",
   "metadata": {},
   "outputs": [
    {
     "data": {
      "text/plain": [
       "<matplotlib.legend.Legend at 0x7fe44a097cd0>"
      ]
     },
     "execution_count": 116,
     "metadata": {},
     "output_type": "execute_result"
    },
    {
     "data": {
      "image/png": "[encoded data removed]",
      "text/plain": [
       "<Figure size 640x480 with 1 Axes>"
      ]
     },
     "metadata": {},
     "output_type": "display_data"
    }
   ],
   "source": [
    "#now let's plot both models on the same plot so we can see how they compare\n",
    "import matplotlib.pyplot as plt\n",
    "plt.plot(fpr,tpr, label='log_reg')\n",
    "plt.plot(fpr_nb,tpr_nb, label='nb')\n",
    "plt.xlabel('False Positive Rate')\n",
    "plt.ylabel('True Positive Rate')\n",
    "plt.legend()"
   ]
  },
  {
   "cell_type": "code",
   "execution_count": 117,
   "id": "9a1bb9f4",
   "metadata": {
    "scrolled": true
   },
   "outputs": [
    {
     "data": {
      "text/plain": [
       "Text(0, 0.5, 'recall')"
      ]
     },
     "execution_count": 117,
     "metadata": {},
     "output_type": "execute_result"
    },
    {
     "data": {
      "image/png": "[encoded data removed]",
      "text/plain": [
       "<Figure size 640x480 with 1 Axes>"
      ]
     },
     "metadata": {},
     "output_type": "display_data"
    }
   ],
   "source": [
    "from sklearn.metrics import precision_recall_curve\n",
    "\n",
    "precision_log,recall_log,thresholds = precision_recall_curve(y_test, yhat_log[:,1])\n",
    "precision_nb,recall_nb,thresholds_nb = precision_recall_curve(y_test, yhat_nb[:,1])\n",
    "plt.plot(precision_log,recall_log)\n",
    "plt.plot(precision_nb,recall_nb, label='nb')\n",
    "plt.xlabel(\"precision\")\n",
    "plt.ylabel(\"recall\")"
   ]
  },
  {
   "cell_type": "markdown",
   "id": "b8106dd9",
   "metadata": {},
   "source": [
    " logistic is a lot better than nb from precision and recall curve, also roc curve, then see it compare to KNN\n",
    " I use F1 to compare for classfication models"
   ]
  },
  {
   "cell_type": "code",
   "execution_count": 119,
   "id": "d5b7ca68",
   "metadata": {},
   "outputs": [
    {
     "name": "stdout",
     "output_type": "stream",
     "text": [
      "knn F1:  0.7631578947368421\n",
      "knn precision:  0.9169960474308301\n",
      "knn recall:  0.6535211267605634\n",
      "knn accuracy:  0.7988826815642458\n"
     ]
    }
   ],
   "source": [
    "print(\"knn F1: \", f1_score(y_test,yhat_knn))\n",
    "print(\"knn precision: \", precision_score(y_test,yhat_knn))\n",
    "print(\"knn recall: \", recall_score(y_test,yhat_knn))\n",
    "print(\"knn accuracy: \", accuracy_score(y_test,yhat_knn))"
   ]
  },
  {
   "cell_type": "code",
   "execution_count": 120,
   "id": "5cd63f94",
   "metadata": {},
   "outputs": [
    {
     "name": "stdout",
     "output_type": "stream",
     "text": [
      "log F1:  0.8623595505617978\n",
      "log precision:  0.8599439775910365\n",
      "log recall:  0.8647887323943662\n",
      "log accuracy:  0.8631284916201117\n"
     ]
    }
   ],
   "source": [
    "print(\"log F1: \", f1_score(y_test,yhat_log1))\n",
    "print(\"log precision: \", precision_score(y_test,yhat_log1))\n",
    "print(\"log recall: \", recall_score(y_test,yhat_log1))\n",
    "print(\"log accuracy: \", accuracy_score(y_test,yhat_log1))"
   ]
  },
  {
   "cell_type": "code",
   "execution_count": 121,
   "id": "a0b2459a",
   "metadata": {},
   "outputs": [],
   "source": [
    "# tune knn\n",
    "i= 1\n",
    "accuracy_list=[]\n",
    "while i < 15:\n",
    "    knn = KNeighborsClassifier(n_neighbors = i)\n",
    "    knn.fit(x_train,y_train)\n",
    "    pred = knn.predict(x_test)\n",
    "    accuracy_list.append(accuracy_score(y_test,pred))\n",
    "    i=i+1"
   ]
  },
  {
   "cell_type": "code",
   "execution_count": 122,
   "id": "4729c49f",
   "metadata": {
    "scrolled": true
   },
   "outputs": [
    {
     "data": {
      "text/plain": [
       "[0.7932960893854749,\n",
       " 0.7486033519553073,\n",
       " 0.8058659217877095,\n",
       " 0.7653631284916201,\n",
       " 0.7988826815642458,\n",
       " 0.776536312849162,\n",
       " 0.7988826815642458,\n",
       " 0.776536312849162,\n",
       " 0.7821229050279329,\n",
       " 0.7779329608938548,\n",
       " 0.7905027932960894,\n",
       " 0.776536312849162,\n",
       " 0.7946927374301676,\n",
       " 0.7793296089385475]"
      ]
     },
     "execution_count": 122,
     "metadata": {},
     "output_type": "execute_result"
    }
   ],
   "source": [
    "accuracy_list"
   ]
  },
  {
   "cell_type": "code",
   "execution_count": 129,
   "id": "d02ee6cf",
   "metadata": {},
   "outputs": [],
   "source": [
    "error_rate = []\n",
    "\n",
    "# Will take some time\n",
    "for i in range(1,40):\n",
    "    \n",
    "    knn = KNeighborsClassifier(n_neighbors=i)\n",
    "    knn.fit(x_train,y_train)\n",
    "    pred_i = knn.predict(x_test)\n",
    "    error_rate.append(np.mean(pred_i != y_test))"
   ]
  },
  {
   "cell_type": "code",
   "execution_count": 133,
   "id": "0bd0d1e0",
   "metadata": {},
   "outputs": [
    {
     "data": {
      "text/plain": [
       "Text(0, 0.5, 'Error Rate')"
      ]
     },
     "execution_count": 133,
     "metadata": {},
     "output_type": "execute_result"
    },
    {
     "data": {
      "image/png": "[encoded data removed]",
      "text/plain": [
       "<Figure size 1000x600 with 1 Axes>"
      ]
     },
     "metadata": {},
     "output_type": "display_data"
    }
   ],
   "source": [
    "plt.figure(figsize=(10,6))\n",
    "plt.plot(range(1,40),error_rate,color='blue', linestyle='dashed', marker='o',\n",
    " markerfacecolor='red', markersize=10)\n",
    "plt.title('Error Rate vs. K Value')\n",
    "plt.xlabel('K')\n",
    "plt.ylabel('Error Rate')\n",
    "# the low error rate means the model is better"
   ]
  },
  {
   "cell_type": "code",
   "execution_count": null,
   "id": "ff83bf86",
   "metadata": {},
   "outputs": [],
   "source": [
    "# 3 neigbour is the highest for knn however it is still doesn't out perform logistic"
   ]
  },
  {
   "cell_type": "code",
   "execution_count": 125,
   "id": "6204398c",
   "metadata": {},
   "outputs": [
    {
     "data": {
      "text/plain": [
       "<AxesSubplot:>"
      ]
     },
     "execution_count": 125,
     "metadata": {},
     "output_type": "execute_result"
    },
    {
     "data": {
      "image/png": "[encoded data removed]",
      "text/plain": [
       "<Figure size 640x480 with 2 Axes>"
      ]
     },
     "metadata": {},
     "output_type": "display_data"
    }
   ],
   "source": [
    "sns.heatmap(confusion_matrix(y_test,yhat_log1),annot=True) # with  data the info is very accurate"
   ]
  },
  {
   "cell_type": "markdown",
   "id": "df604508",
   "metadata": {},
   "source": [
    "## From F1 score, clearly Logistic has a higher F1 which is more accurate will use it to see feature important"
   ]
  },
  {
   "attachments": {},
   "cell_type": "markdown",
   "id": "887513a1",
   "metadata": {},
   "source": [
    "# COEFFICIENT IMPROTANCE? 1.\tWhat are the drivers of attrition?\n",
    "**OT is yes** are affecting the attrition,  then are **years at company**, **years since last promtion** and **num companines worked**,  jobs like **Sales representive** have a high attrition"
   ]
  },
  {
   "cell_type": "code",
   "execution_count": null,
   "id": "c463161d",
   "metadata": {},
   "outputs": [],
   "source": [
    "# it could reach the highest 80% for KNN clearly the Logistic is better, will check feature importance for logistic"
   ]
  },
  {
   "cell_type": "code",
   "execution_count": 124,
   "id": "2f478d3c",
   "metadata": {},
   "outputs": [
    {
     "data": {
      "text/html": [
       "<div>\n",
       "<style scoped>\n",
       "    .dataframe tbody tr th:only-of-type {\n",
       "        vertical-align: middle;\n",
       "    }\n",
       "\n",
       "    .dataframe tbody tr th {\n",
       "        vertical-align: top;\n",
       "    }\n",
       "\n",
       "    .dataframe thead th {\n",
       "        text-align: right;\n",
       "    }\n",
       "</style>\n",
       "<table border=\"1\" class=\"dataframe\">\n",
       "  <thead>\n",
       "    <tr style=\"text-align: right;\">\n",
       "      <th></th>\n",
       "      <th>0</th>\n",
       "      <th>Coefs</th>\n",
       "    </tr>\n",
       "  </thead>\n",
       "  <tbody>\n",
       "    <tr>\n",
       "      <th>17</th>\n",
       "      <td>YearsSinceLastPromotion</td>\n",
       "      <td>0.872590</td>\n",
       "    </tr>\n",
       "    <tr>\n",
       "      <th>15</th>\n",
       "      <td>YearsAtCompany</td>\n",
       "      <td>0.850499</td>\n",
       "    </tr>\n",
       "    <tr>\n",
       "      <th>41</th>\n",
       "      <td>OT_Yes</td>\n",
       "      <td>0.830911</td>\n",
       "    </tr>\n",
       "    <tr>\n",
       "      <th>37</th>\n",
       "      <td>JR_Sales Representative</td>\n",
       "      <td>0.620614</td>\n",
       "    </tr>\n",
       "    <tr>\n",
       "      <th>7</th>\n",
       "      <td>MonthlyIncome($)</td>\n",
       "      <td>0.575875</td>\n",
       "    </tr>\n",
       "    <tr>\n",
       "      <th>8</th>\n",
       "      <td>NumCompaniesWorked#</td>\n",
       "      <td>0.570820</td>\n",
       "    </tr>\n",
       "    <tr>\n",
       "      <th>2</th>\n",
       "      <td>DistanceFromHome</td>\n",
       "      <td>0.509536</td>\n",
       "    </tr>\n",
       "    <tr>\n",
       "      <th>40</th>\n",
       "      <td>Mstatus_Single</td>\n",
       "      <td>0.435984</td>\n",
       "    </tr>\n",
       "    <tr>\n",
       "      <th>31</th>\n",
       "      <td>JR_Laboratory Technician</td>\n",
       "      <td>0.416763</td>\n",
       "    </tr>\n",
       "    <tr>\n",
       "      <th>11</th>\n",
       "      <td>StockOptionLevel</td>\n",
       "      <td>0.391636</td>\n",
       "    </tr>\n",
       "    <tr>\n",
       "      <th>10</th>\n",
       "      <td>PerformanceRating</td>\n",
       "      <td>0.353846</td>\n",
       "    </tr>\n",
       "    <tr>\n",
       "      <th>27</th>\n",
       "      <td>EF_Technical Degree</td>\n",
       "      <td>0.248166</td>\n",
       "    </tr>\n",
       "    <tr>\n",
       "      <th>20</th>\n",
       "      <td>BT_Travel_Frequently</td>\n",
       "      <td>0.215996</td>\n",
       "    </tr>\n",
       "    <tr>\n",
       "      <th>22</th>\n",
       "      <td>EF_Human Resources</td>\n",
       "      <td>0.215779</td>\n",
       "    </tr>\n",
       "    <tr>\n",
       "      <th>28</th>\n",
       "      <td>G_Male</td>\n",
       "      <td>0.197293</td>\n",
       "    </tr>\n",
       "    <tr>\n",
       "      <th>30</th>\n",
       "      <td>JR_Human Resources</td>\n",
       "      <td>0.188523</td>\n",
       "    </tr>\n",
       "    <tr>\n",
       "      <th>3</th>\n",
       "      <td>Education</td>\n",
       "      <td>0.132184</td>\n",
       "    </tr>\n",
       "    <tr>\n",
       "      <th>5</th>\n",
       "      <td>JobLevel</td>\n",
       "      <td>0.085176</td>\n",
       "    </tr>\n",
       "    <tr>\n",
       "      <th>35</th>\n",
       "      <td>JR_Research Scientist</td>\n",
       "      <td>0.068604</td>\n",
       "    </tr>\n",
       "    <tr>\n",
       "      <th>9</th>\n",
       "      <td>PercentSalaryHike</td>\n",
       "      <td>0.048188</td>\n",
       "    </tr>\n",
       "    <tr>\n",
       "      <th>19</th>\n",
       "      <td>BT_Non-Travel</td>\n",
       "      <td>0.017900</td>\n",
       "    </tr>\n",
       "    <tr>\n",
       "      <th>36</th>\n",
       "      <td>JR_Sales Executive</td>\n",
       "      <td>0.002793</td>\n",
       "    </tr>\n",
       "    <tr>\n",
       "      <th>24</th>\n",
       "      <td>EF_Marketing</td>\n",
       "      <td>0.002499</td>\n",
       "    </tr>\n",
       "    <tr>\n",
       "      <th>13</th>\n",
       "      <td>TrainingTimesLastYear</td>\n",
       "      <td>-0.021495</td>\n",
       "    </tr>\n",
       "    <tr>\n",
       "      <th>16</th>\n",
       "      <td>YearsInCurrentRole</td>\n",
       "      <td>-0.042089</td>\n",
       "    </tr>\n",
       "    <tr>\n",
       "      <th>1</th>\n",
       "      <td>DailyRate($)</td>\n",
       "      <td>-0.046820</td>\n",
       "    </tr>\n",
       "    <tr>\n",
       "      <th>26</th>\n",
       "      <td>EF_Other</td>\n",
       "      <td>-0.050272</td>\n",
       "    </tr>\n",
       "    <tr>\n",
       "      <th>25</th>\n",
       "      <td>EF_Medical</td>\n",
       "      <td>-0.056011</td>\n",
       "    </tr>\n",
       "    <tr>\n",
       "      <th>18</th>\n",
       "      <td>YearsWithCurrManager</td>\n",
       "      <td>-0.095489</td>\n",
       "    </tr>\n",
       "    <tr>\n",
       "      <th>12</th>\n",
       "      <td>TotalWorkingYears</td>\n",
       "      <td>-0.119345</td>\n",
       "    </tr>\n",
       "    <tr>\n",
       "      <th>39</th>\n",
       "      <td>Mstatus_Married</td>\n",
       "      <td>-0.131197</td>\n",
       "    </tr>\n",
       "    <tr>\n",
       "      <th>23</th>\n",
       "      <td>EF_Life Sciences</td>\n",
       "      <td>-0.149229</td>\n",
       "    </tr>\n",
       "    <tr>\n",
       "      <th>21</th>\n",
       "      <td>BT_Travel_Rarely</td>\n",
       "      <td>-0.200813</td>\n",
       "    </tr>\n",
       "    <tr>\n",
       "      <th>33</th>\n",
       "      <td>JR_Manufacturing Director</td>\n",
       "      <td>-0.279466</td>\n",
       "    </tr>\n",
       "    <tr>\n",
       "      <th>29</th>\n",
       "      <td>JR_Healthcare Representative</td>\n",
       "      <td>-0.311598</td>\n",
       "    </tr>\n",
       "    <tr>\n",
       "      <th>6</th>\n",
       "      <td>JobSatisfaction</td>\n",
       "      <td>-0.335789</td>\n",
       "    </tr>\n",
       "    <tr>\n",
       "      <th>0</th>\n",
       "      <td>Age</td>\n",
       "      <td>-0.351808</td>\n",
       "    </tr>\n",
       "    <tr>\n",
       "      <th>14</th>\n",
       "      <td>WorkLifeBalance</td>\n",
       "      <td>-0.371568</td>\n",
       "    </tr>\n",
       "    <tr>\n",
       "      <th>38</th>\n",
       "      <td>Mstatus_Divorced</td>\n",
       "      <td>-0.375725</td>\n",
       "    </tr>\n",
       "    <tr>\n",
       "      <th>4</th>\n",
       "      <td>EnvironmentSatisfaction</td>\n",
       "      <td>-0.382139</td>\n",
       "    </tr>\n",
       "    <tr>\n",
       "      <th>32</th>\n",
       "      <td>JR_Manager</td>\n",
       "      <td>-0.566636</td>\n",
       "    </tr>\n",
       "    <tr>\n",
       "      <th>34</th>\n",
       "      <td>JR_Research Director</td>\n",
       "      <td>-0.720410</td>\n",
       "    </tr>\n",
       "  </tbody>\n",
       "</table>\n",
       "</div>"
      ],
      "text/plain": [
       "                               0     Coefs\n",
       "17       YearsSinceLastPromotion  0.872590\n",
       "15                YearsAtCompany  0.850499\n",
       "41                        OT_Yes  0.830911\n",
       "37       JR_Sales Representative  0.620614\n",
       "7               MonthlyIncome($)  0.575875\n",
       "8            NumCompaniesWorked#  0.570820\n",
       "2               DistanceFromHome  0.509536\n",
       "40                Mstatus_Single  0.435984\n",
       "31      JR_Laboratory Technician  0.416763\n",
       "11              StockOptionLevel  0.391636\n",
       "10             PerformanceRating  0.353846\n",
       "27           EF_Technical Degree  0.248166\n",
       "20          BT_Travel_Frequently  0.215996\n",
       "22            EF_Human Resources  0.215779\n",
       "28                        G_Male  0.197293\n",
       "30            JR_Human Resources  0.188523\n",
       "3                      Education  0.132184\n",
       "5                       JobLevel  0.085176\n",
       "35         JR_Research Scientist  0.068604\n",
       "9              PercentSalaryHike  0.048188\n",
       "19                 BT_Non-Travel  0.017900\n",
       "36            JR_Sales Executive  0.002793\n",
       "24                  EF_Marketing  0.002499\n",
       "13         TrainingTimesLastYear -0.021495\n",
       "16            YearsInCurrentRole -0.042089\n",
       "1                   DailyRate($) -0.046820\n",
       "26                      EF_Other -0.050272\n",
       "25                    EF_Medical -0.056011\n",
       "18          YearsWithCurrManager -0.095489\n",
       "12             TotalWorkingYears -0.119345\n",
       "39               Mstatus_Married -0.131197\n",
       "23              EF_Life Sciences -0.149229\n",
       "21              BT_Travel_Rarely -0.200813\n",
       "33     JR_Manufacturing Director -0.279466\n",
       "29  JR_Healthcare Representative -0.311598\n",
       "6                JobSatisfaction -0.335789\n",
       "0                            Age -0.351808\n",
       "14               WorkLifeBalance -0.371568\n",
       "38              Mstatus_Divorced -0.375725\n",
       "4        EnvironmentSatisfaction -0.382139\n",
       "32                    JR_Manager -0.566636\n",
       "34          JR_Research Director -0.720410"
      ]
     },
     "execution_count": 124,
     "metadata": {},
     "output_type": "execute_result"
    }
   ],
   "source": [
    "coef_table = pd.DataFrame(list(X.columns)).copy()\n",
    "coef_table.insert(len(coef_table.columns),\"Coefs\",log.coef_.transpose())\n",
    "coef_table.sort_values(by = [\"Coefs\"],ascending = False)"
   ]
  },
  {
   "cell_type": "markdown",
   "id": "5388cf6a",
   "metadata": {},
   "source": [
    "### Decision Tree"
   ]
  },
  {
   "cell_type": "code",
   "execution_count": 134,
   "id": "4ac5fa03",
   "metadata": {},
   "outputs": [
    {
     "data": {
      "text/plain": [
       "DecisionTreeClassifier()"
      ]
     },
     "execution_count": 134,
     "metadata": {},
     "output_type": "execute_result"
    }
   ],
   "source": [
    "# Will do a decision tree to see if it is still the case\n",
    "from sklearn.tree import DecisionTreeClassifier\n",
    "dtree = DecisionTreeClassifier()\n",
    "dtree.fit(x_train,y_train)"
   ]
  },
  {
   "cell_type": "code",
   "execution_count": 136,
   "id": "44921034",
   "metadata": {},
   "outputs": [
    {
     "name": "stdout",
     "output_type": "stream",
     "text": [
      "              precision    recall  f1-score   support\n",
      "\n",
      "           0       0.83      0.78      0.81       361\n",
      "           1       0.79      0.84      0.82       355\n",
      "\n",
      "    accuracy                           0.81       716\n",
      "   macro avg       0.81      0.81      0.81       716\n",
      "weighted avg       0.81      0.81      0.81       716\n",
      "\n",
      "[[282  79]\n",
      " [ 56 299]]\n"
     ]
    }
   ],
   "source": [
    "predictions = dtree.predict(x_test)\n",
    "from sklearn.metrics import classification_report,confusion_matrix\n",
    "print(classification_report(y_test,predictions))\n",
    "print(confusion_matrix(y_test,predictions))"
   ]
  },
  {
   "cell_type": "code",
   "execution_count": 142,
   "id": "d60dd770",
   "metadata": {},
   "outputs": [
    {
     "name": "stdout",
     "output_type": "stream",
     "text": [
      "              precision    recall  f1-score   support\n",
      "\n",
      "           0       0.84      0.82      0.83       361\n",
      "           1       0.82      0.84      0.83       355\n",
      "\n",
      "    accuracy                           0.83       716\n",
      "   macro avg       0.83      0.83      0.83       716\n",
      "weighted avg       0.83      0.83      0.83       716\n",
      "\n",
      "[[297  64]\n",
      " [ 57 298]]\n"
     ]
    }
   ],
   "source": [
    "#could not outperform f1 in term of f1 score, will check on  prune trees, with 12 min sample split it is a bit better\n",
    "d1tree = DecisionTreeClassifier(min_samples_split = 12) \n",
    "d1tree.fit(x_train,y_train)\n",
    "predictions = d1tree.predict(x_test)\n",
    "from sklearn.metrics import classification_report,confusion_matrix\n",
    "print(classification_report(y_test,predictions))\n",
    "print(confusion_matrix(y_test,predictions))"
   ]
  },
  {
   "cell_type": "code",
   "execution_count": 149,
   "id": "bd8698c1",
   "metadata": {},
   "outputs": [],
   "source": [
    "path = dtree.cost_complexity_pruning_path(x_train, y_train)\n",
    "ccp_alphas = path.ccp_alphas\n",
    "ccp_alphas = ccp_alphas[:-1]"
   ]
  },
  {
   "cell_type": "code",
   "execution_count": 153,
   "id": "5d8deb1f",
   "metadata": {},
   "outputs": [
    {
     "data": {
      "text/plain": [
       "array([0.        , 0.00011455, 0.00011953, 0.0001654 , 0.00020174,\n",
       "       0.00023202, 0.00024965, 0.00032982, 0.0004993 , 0.00054923,\n",
       "       0.00057471, 0.0006404 , 0.00065742, 0.0007367 , 0.0007682 ,\n",
       "       0.00086546, 0.00096665, 0.00101589, 0.00102835, 0.00105652,\n",
       "       0.00105696, 0.00108202, 0.00109662, 0.00111568, 0.00114622,\n",
       "       0.00116679, 0.00117283, 0.00119559, 0.00124553, 0.00125753,\n",
       "       0.00135649, 0.00142023, 0.00142023, 0.00143799, 0.00145094,\n",
       "       0.00161377, 0.00164158, 0.00166382, 0.001701  , 0.00195828,\n",
       "       0.00199566, 0.00203821, 0.00209243, 0.0021076 , 0.00215698,\n",
       "       0.00230127, 0.00234782, 0.00249501, 0.0024965 , 0.00255642,\n",
       "       0.00257292, 0.00269102, 0.00274413, 0.00312757, 0.00351883,\n",
       "       0.00359467, 0.00360254, 0.00387451, 0.00388256, 0.00391184,\n",
       "       0.00440647, 0.00446743, 0.00499221, 0.00572922, 0.0064147 ,\n",
       "       0.0084351 , 0.00971219, 0.00988292, 0.01021001, 0.01339251,\n",
       "       0.01383632, 0.02346609, 0.03486817])"
      ]
     },
     "execution_count": 153,
     "metadata": {},
     "output_type": "execute_result"
    }
   ],
   "source": [
    "ccp_alphas"
   ]
  },
  {
   "cell_type": "code",
   "execution_count": 151,
   "id": "ae30dc21",
   "metadata": {},
   "outputs": [],
   "source": [
    "clf_dts = [] # create an array that we will put decision trees into\n",
    "\n",
    "## now create one decision tree per value for alpha and store it in the array\n",
    "for ccp_alpha in ccp_alphas:\n",
    "    dt = DecisionTreeClassifier(random_state=0, ccp_alpha=ccp_alpha)\n",
    "    dt.fit(x_train, y_train)\n",
    "    clf_dts.append(dt)"
   ]
  },
  {
   "cell_type": "code",
   "execution_count": 152,
   "id": "733a72e7",
   "metadata": {},
   "outputs": [
    {
     "data": {
      "image/png": "[encoded data removed]",
      "text/plain": [
       "<Figure size 640x480 with 1 Axes>"
      ]
     },
     "metadata": {},
     "output_type": "display_data"
    }
   ],
   "source": [
    "train_scores = [dt.score(x_train, y_train) for dt in clf_dts]\n",
    "test_scores = [dt.score(x_test, y_test) for dt in clf_dts]\n",
    "\n",
    "fig, ax = plt.subplots()\n",
    "ax.set_xlabel(\"alpha\")\n",
    "ax.set_ylabel(\"accuracy\")\n",
    "ax.set_title(\"Accuracy vs alpha for training and testing sets\")\n",
    "ax.plot(ccp_alphas, train_scores, marker='o', label=\"train\", drawstyle=\"steps-post\")\n",
    "ax.plot(ccp_alphas, test_scores, marker='o', label=\"test\", drawstyle=\"steps-post\")\n",
    "ax.legend()\n",
    "plt.show()"
   ]
  },
  {
   "cell_type": "code",
   "execution_count": 154,
   "id": "d4396382",
   "metadata": {},
   "outputs": [],
   "source": [
    "##Will visual the tree to see important vectors\n",
    "# plot decision tree after pruning - much simpler!\n",
    "dt = DecisionTreeClassifier(random_state = 0, ccp_alpha=0.013)\n",
    "dt = dt.fit(x_train,y_train)"
   ]
  },
  {
   "cell_type": "code",
   "execution_count": 156,
   "id": "b805e0ad",
   "metadata": {},
   "outputs": [
    {
     "data": {
      "image/png": "[encoded data removed]",
      "text/plain": [
       "<Figure size 1500x1000 with 1 Axes>"
      ]
     },
     "metadata": {},
     "output_type": "display_data"
    }
   ],
   "source": [
    "plt.figure(figsize = (15,10))\n",
    "plot_tree(dt,feature_names =X.columns, filled=True, rounded=True);"
   ]
  },
  {
   "cell_type": "markdown",
   "id": "639aa1ef",
   "metadata": {},
   "source": [
    "## comment: the debision is not clear with  less leaf decision tree"
   ]
  },
  {
   "cell_type": "code",
   "execution_count": 157,
   "id": "25d9d2a2",
   "metadata": {},
   "outputs": [
    {
     "name": "stdout",
     "output_type": "stream",
     "text": [
      "              precision    recall  f1-score   support\n",
      "\n",
      "           0       0.76      0.76      0.76       361\n",
      "           1       0.76      0.75      0.76       355\n",
      "\n",
      "    accuracy                           0.76       716\n",
      "   macro avg       0.76      0.76      0.76       716\n",
      "weighted avg       0.76      0.76      0.76       716\n",
      "\n",
      "[[276  85]\n",
      " [ 87 268]]\n"
     ]
    }
   ],
   "source": [
    "predictions = dt.predict(x_test)\n",
    "from sklearn.metrics import classification_report,confusion_matrix\n",
    "print(classification_report(y_test,predictions))\n",
    "print(confusion_matrix(y_test,predictions)) #the prediction with tuned is not very good"
   ]
  },
  {
   "cell_type": "markdown",
   "id": "61b8dab6",
   "metadata": {},
   "source": [
    "## run ramdom forest to see if it is better"
   ]
  },
  {
   "cell_type": "code",
   "execution_count": 159,
   "id": "a42e605c",
   "metadata": {},
   "outputs": [
    {
     "name": "stdout",
     "output_type": "stream",
     "text": [
      "[[336  25]\n",
      " [ 48 307]]\n",
      "              precision    recall  f1-score   support\n",
      "\n",
      "           0       0.88      0.93      0.90       361\n",
      "           1       0.92      0.86      0.89       355\n",
      "\n",
      "    accuracy                           0.90       716\n",
      "   macro avg       0.90      0.90      0.90       716\n",
      "weighted avg       0.90      0.90      0.90       716\n",
      "\n"
     ]
    }
   ],
   "source": [
    "from sklearn.ensemble import RandomForestClassifier\n",
    "rfc = RandomForestClassifier(n_estimators=100)\n",
    "rfc.fit(x_train, y_train)\n",
    "rfc_pred = rfc.predict(x_test)\n",
    "print(confusion_matrix(y_test,rfc_pred))\n",
    "print(classification_report(y_test,rfc_pred))"
   ]
  },
  {
   "cell_type": "code",
   "execution_count": null,
   "id": "b4447d0a",
   "metadata": {},
   "outputs": [],
   "source": [
    "# from here random forest so far give the best prediction score"
   ]
  },
  {
   "cell_type": "code",
   "execution_count": 175,
   "id": "e3a3fcc4",
   "metadata": {},
   "outputs": [],
   "source": [
    "feature_list = [X.columns]"
   ]
  },
  {
   "cell_type": "code",
   "execution_count": 177,
   "id": "b66bd593",
   "metadata": {},
   "outputs": [
    {
     "data": {
      "text/plain": [
       "[Index(['Age', 'DailyRate($)', 'DistanceFromHome', 'Education',\n",
       "        'EnvironmentSatisfaction', 'JobLevel', 'JobSatisfaction',\n",
       "        'MonthlyIncome($)', 'NumCompaniesWorked#', 'PercentSalaryHike',\n",
       "        'PerformanceRating', 'StockOptionLevel', 'TotalWorkingYears',\n",
       "        'TrainingTimesLastYear', 'WorkLifeBalance', 'YearsAtCompany',\n",
       "        'YearsInCurrentRole', 'YearsSinceLastPromotion', 'YearsWithCurrManager',\n",
       "        'BT_Non-Travel', 'BT_Travel_Frequently', 'BT_Travel_Rarely',\n",
       "        'EF_Human Resources', 'EF_Life Sciences', 'EF_Marketing', 'EF_Medical',\n",
       "        'EF_Other', 'EF_Technical Degree', 'G_Male',\n",
       "        'JR_Healthcare Representative', 'JR_Human Resources',\n",
       "        'JR_Laboratory Technician', 'JR_Manager', 'JR_Manufacturing Director',\n",
       "        'JR_Research Director', 'JR_Research Scientist', 'JR_Sales Executive',\n",
       "        'JR_Sales Representative', 'Mstatus_Divorced', 'Mstatus_Married',\n",
       "        'Mstatus_Single', 'OT_Yes'],\n",
       "       dtype='object')]"
      ]
     },
     "execution_count": 177,
     "metadata": {},
     "output_type": "execute_result"
    }
   ],
   "source": [
    "feature_list"
   ]
  },
  {
   "cell_type": "code",
   "execution_count": 189,
   "id": "01d70cff",
   "metadata": {},
   "outputs": [
    {
     "data": {
      "text/html": [
       "<div>\n",
       "<style scoped>\n",
       "    .dataframe tbody tr th:only-of-type {\n",
       "        vertical-align: middle;\n",
       "    }\n",
       "\n",
       "    .dataframe tbody tr th {\n",
       "        vertical-align: top;\n",
       "    }\n",
       "\n",
       "    .dataframe thead th {\n",
       "        text-align: right;\n",
       "    }\n",
       "</style>\n",
       "<table border=\"1\" class=\"dataframe\">\n",
       "  <thead>\n",
       "    <tr style=\"text-align: right;\">\n",
       "      <th></th>\n",
       "      <th>0</th>\n",
       "      <th>Coefs</th>\n",
       "    </tr>\n",
       "  </thead>\n",
       "  <tbody>\n",
       "    <tr>\n",
       "      <th>15</th>\n",
       "      <td>YearsAtCompany</td>\n",
       "      <td>0.109424</td>\n",
       "    </tr>\n",
       "    <tr>\n",
       "      <th>17</th>\n",
       "      <td>YearsSinceLastPromotion</td>\n",
       "      <td>0.099376</td>\n",
       "    </tr>\n",
       "    <tr>\n",
       "      <th>16</th>\n",
       "      <td>YearsInCurrentRole</td>\n",
       "      <td>0.064734</td>\n",
       "    </tr>\n",
       "    <tr>\n",
       "      <th>12</th>\n",
       "      <td>TotalWorkingYears</td>\n",
       "      <td>0.061121</td>\n",
       "    </tr>\n",
       "    <tr>\n",
       "      <th>2</th>\n",
       "      <td>DistanceFromHome</td>\n",
       "      <td>0.059776</td>\n",
       "    </tr>\n",
       "    <tr>\n",
       "      <th>18</th>\n",
       "      <td>YearsWithCurrManager</td>\n",
       "      <td>0.056100</td>\n",
       "    </tr>\n",
       "    <tr>\n",
       "      <th>7</th>\n",
       "      <td>MonthlyIncome($)</td>\n",
       "      <td>0.051315</td>\n",
       "    </tr>\n",
       "    <tr>\n",
       "      <th>0</th>\n",
       "      <td>Age</td>\n",
       "      <td>0.044380</td>\n",
       "    </tr>\n",
       "    <tr>\n",
       "      <th>8</th>\n",
       "      <td>NumCompaniesWorked#</td>\n",
       "      <td>0.040066</td>\n",
       "    </tr>\n",
       "    <tr>\n",
       "      <th>41</th>\n",
       "      <td>OT_Yes</td>\n",
       "      <td>0.037822</td>\n",
       "    </tr>\n",
       "    <tr>\n",
       "      <th>9</th>\n",
       "      <td>PercentSalaryHike</td>\n",
       "      <td>0.033471</td>\n",
       "    </tr>\n",
       "    <tr>\n",
       "      <th>1</th>\n",
       "      <td>DailyRate($)</td>\n",
       "      <td>0.032444</td>\n",
       "    </tr>\n",
       "    <tr>\n",
       "      <th>21</th>\n",
       "      <td>BT_Travel_Rarely</td>\n",
       "      <td>0.024213</td>\n",
       "    </tr>\n",
       "    <tr>\n",
       "      <th>13</th>\n",
       "      <td>TrainingTimesLastYear</td>\n",
       "      <td>0.022544</td>\n",
       "    </tr>\n",
       "    <tr>\n",
       "      <th>10</th>\n",
       "      <td>PerformanceRating</td>\n",
       "      <td>0.022218</td>\n",
       "    </tr>\n",
       "    <tr>\n",
       "      <th>5</th>\n",
       "      <td>JobLevel</td>\n",
       "      <td>0.021859</td>\n",
       "    </tr>\n",
       "    <tr>\n",
       "      <th>11</th>\n",
       "      <td>StockOptionLevel</td>\n",
       "      <td>0.021353</td>\n",
       "    </tr>\n",
       "    <tr>\n",
       "      <th>14</th>\n",
       "      <td>WorkLifeBalance</td>\n",
       "      <td>0.020489</td>\n",
       "    </tr>\n",
       "    <tr>\n",
       "      <th>4</th>\n",
       "      <td>EnvironmentSatisfaction</td>\n",
       "      <td>0.017425</td>\n",
       "    </tr>\n",
       "    <tr>\n",
       "      <th>3</th>\n",
       "      <td>Education</td>\n",
       "      <td>0.016821</td>\n",
       "    </tr>\n",
       "    <tr>\n",
       "      <th>32</th>\n",
       "      <td>JR_Manager</td>\n",
       "      <td>0.015085</td>\n",
       "    </tr>\n",
       "    <tr>\n",
       "      <th>6</th>\n",
       "      <td>JobSatisfaction</td>\n",
       "      <td>0.015006</td>\n",
       "    </tr>\n",
       "    <tr>\n",
       "      <th>40</th>\n",
       "      <td>Mstatus_Single</td>\n",
       "      <td>0.013674</td>\n",
       "    </tr>\n",
       "    <tr>\n",
       "      <th>34</th>\n",
       "      <td>JR_Research Director</td>\n",
       "      <td>0.010090</td>\n",
       "    </tr>\n",
       "    <tr>\n",
       "      <th>37</th>\n",
       "      <td>JR_Sales Representative</td>\n",
       "      <td>0.007735</td>\n",
       "    </tr>\n",
       "    <tr>\n",
       "      <th>31</th>\n",
       "      <td>JR_Laboratory Technician</td>\n",
       "      <td>0.007103</td>\n",
       "    </tr>\n",
       "    <tr>\n",
       "      <th>38</th>\n",
       "      <td>Mstatus_Divorced</td>\n",
       "      <td>0.006123</td>\n",
       "    </tr>\n",
       "    <tr>\n",
       "      <th>39</th>\n",
       "      <td>Mstatus_Married</td>\n",
       "      <td>0.005944</td>\n",
       "    </tr>\n",
       "    <tr>\n",
       "      <th>23</th>\n",
       "      <td>EF_Life Sciences</td>\n",
       "      <td>0.005906</td>\n",
       "    </tr>\n",
       "    <tr>\n",
       "      <th>19</th>\n",
       "      <td>BT_Non-Travel</td>\n",
       "      <td>0.005845</td>\n",
       "    </tr>\n",
       "    <tr>\n",
       "      <th>20</th>\n",
       "      <td>BT_Travel_Frequently</td>\n",
       "      <td>0.005620</td>\n",
       "    </tr>\n",
       "    <tr>\n",
       "      <th>28</th>\n",
       "      <td>G_Male</td>\n",
       "      <td>0.005441</td>\n",
       "    </tr>\n",
       "    <tr>\n",
       "      <th>25</th>\n",
       "      <td>EF_Medical</td>\n",
       "      <td>0.005308</td>\n",
       "    </tr>\n",
       "    <tr>\n",
       "      <th>29</th>\n",
       "      <td>JR_Healthcare Representative</td>\n",
       "      <td>0.005139</td>\n",
       "    </tr>\n",
       "    <tr>\n",
       "      <th>27</th>\n",
       "      <td>EF_Technical Degree</td>\n",
       "      <td>0.004884</td>\n",
       "    </tr>\n",
       "    <tr>\n",
       "      <th>36</th>\n",
       "      <td>JR_Sales Executive</td>\n",
       "      <td>0.004622</td>\n",
       "    </tr>\n",
       "    <tr>\n",
       "      <th>35</th>\n",
       "      <td>JR_Research Scientist</td>\n",
       "      <td>0.004522</td>\n",
       "    </tr>\n",
       "    <tr>\n",
       "      <th>33</th>\n",
       "      <td>JR_Manufacturing Director</td>\n",
       "      <td>0.004241</td>\n",
       "    </tr>\n",
       "    <tr>\n",
       "      <th>24</th>\n",
       "      <td>EF_Marketing</td>\n",
       "      <td>0.004227</td>\n",
       "    </tr>\n",
       "    <tr>\n",
       "      <th>30</th>\n",
       "      <td>JR_Human Resources</td>\n",
       "      <td>0.003372</td>\n",
       "    </tr>\n",
       "    <tr>\n",
       "      <th>26</th>\n",
       "      <td>EF_Other</td>\n",
       "      <td>0.001786</td>\n",
       "    </tr>\n",
       "    <tr>\n",
       "      <th>22</th>\n",
       "      <td>EF_Human Resources</td>\n",
       "      <td>0.001375</td>\n",
       "    </tr>\n",
       "  </tbody>\n",
       "</table>\n",
       "</div>"
      ],
      "text/plain": [
       "                               0     Coefs\n",
       "15                YearsAtCompany  0.109424\n",
       "17       YearsSinceLastPromotion  0.099376\n",
       "16            YearsInCurrentRole  0.064734\n",
       "12             TotalWorkingYears  0.061121\n",
       "2               DistanceFromHome  0.059776\n",
       "18          YearsWithCurrManager  0.056100\n",
       "7               MonthlyIncome($)  0.051315\n",
       "0                            Age  0.044380\n",
       "8            NumCompaniesWorked#  0.040066\n",
       "41                        OT_Yes  0.037822\n",
       "9              PercentSalaryHike  0.033471\n",
       "1                   DailyRate($)  0.032444\n",
       "21              BT_Travel_Rarely  0.024213\n",
       "13         TrainingTimesLastYear  0.022544\n",
       "10             PerformanceRating  0.022218\n",
       "5                       JobLevel  0.021859\n",
       "11              StockOptionLevel  0.021353\n",
       "14               WorkLifeBalance  0.020489\n",
       "4        EnvironmentSatisfaction  0.017425\n",
       "3                      Education  0.016821\n",
       "32                    JR_Manager  0.015085\n",
       "6                JobSatisfaction  0.015006\n",
       "40                Mstatus_Single  0.013674\n",
       "34          JR_Research Director  0.010090\n",
       "37       JR_Sales Representative  0.007735\n",
       "31      JR_Laboratory Technician  0.007103\n",
       "38              Mstatus_Divorced  0.006123\n",
       "39               Mstatus_Married  0.005944\n",
       "23              EF_Life Sciences  0.005906\n",
       "19                 BT_Non-Travel  0.005845\n",
       "20          BT_Travel_Frequently  0.005620\n",
       "28                        G_Male  0.005441\n",
       "25                    EF_Medical  0.005308\n",
       "29  JR_Healthcare Representative  0.005139\n",
       "27           EF_Technical Degree  0.004884\n",
       "36            JR_Sales Executive  0.004622\n",
       "35         JR_Research Scientist  0.004522\n",
       "33     JR_Manufacturing Director  0.004241\n",
       "24                  EF_Marketing  0.004227\n",
       "30            JR_Human Resources  0.003372\n",
       "26                      EF_Other  0.001786\n",
       "22            EF_Human Resources  0.001375"
      ]
     },
     "execution_count": 189,
     "metadata": {},
     "output_type": "execute_result"
    }
   ],
   "source": [
    "# Get numerical feature importances\n",
    "\n",
    "coef_table = pd.DataFrame(list(X.columns)).copy()\n",
    "coef_table.insert(len(coef_table.columns),\"Coefs\",rfc.feature_importances_.transpose())\n",
    "coef_table.sort_values(by = [\"Coefs\"],ascending = False)"
   ]
  },
  {
   "cell_type": "code",
   "execution_count": 184,
   "id": "ed65a401",
   "metadata": {},
   "outputs": [
    {
     "data": {
      "text/plain": [
       "[(Index(['Age', 'DailyRate($)', 'DistanceFromHome', 'Education',\n",
       "         'EnvironmentSatisfaction', 'JobLevel', 'JobSatisfaction',\n",
       "         'MonthlyIncome($)', 'NumCompaniesWorked#', 'PercentSalaryHike',\n",
       "         'PerformanceRating', 'StockOptionLevel', 'TotalWorkingYears',\n",
       "         'TrainingTimesLastYear', 'WorkLifeBalance', 'YearsAtCompany',\n",
       "         'YearsInCurrentRole', 'YearsSinceLastPromotion', 'YearsWithCurrManager',\n",
       "         'BT_Non-Travel', 'BT_Travel_Frequently', 'BT_Travel_Rarely',\n",
       "         'EF_Human Resources', 'EF_Life Sciences', 'EF_Marketing', 'EF_Medical',\n",
       "         'EF_Other', 'EF_Technical Degree', 'G_Male',\n",
       "         'JR_Healthcare Representative', 'JR_Human Resources',\n",
       "         'JR_Laboratory Technician', 'JR_Manager', 'JR_Manufacturing Director',\n",
       "         'JR_Research Director', 'JR_Research Scientist', 'JR_Sales Executive',\n",
       "         'JR_Sales Representative', 'Mstatus_Divorced', 'Mstatus_Married',\n",
       "         'Mstatus_Single', 'OT_Yes'],\n",
       "        dtype='object'),\n",
       "  0.04)]"
      ]
     },
     "execution_count": 184,
     "metadata": {},
     "output_type": "execute_result"
    }
   ],
   "source": [
    "feature_importances"
   ]
  },
  {
   "cell_type": "markdown",
   "id": "d616e58a",
   "metadata": {},
   "source": [
    "# Lastly I will build the SVM "
   ]
  },
  {
   "cell_type": "code",
   "execution_count": 161,
   "id": "89ddaa45",
   "metadata": {},
   "outputs": [
    {
     "data": {
      "text/plain": [
       "SVC()"
      ]
     },
     "execution_count": 161,
     "metadata": {},
     "output_type": "execute_result"
    }
   ],
   "source": [
    "from sklearn.svm import SVC\n",
    "svc_model = SVC()\n",
    "svc_model.fit(x_train,y_train)"
   ]
  },
  {
   "cell_type": "markdown",
   "id": "b991e252",
   "metadata": {},
   "source": [
    "use gridsearch to find the best hyperparameter for SVM, Grid search compare each model thus it is the best"
   ]
  },
  {
   "cell_type": "code",
   "execution_count": 162,
   "id": "4f24d93e",
   "metadata": {},
   "outputs": [
    {
     "name": "stdout",
     "output_type": "stream",
     "text": [
      "Fitting 5 folds for each of 16 candidates, totalling 80 fits\n",
      "[CV] END .....................................C=0.1, gamma=1; total time=   0.2s\n",
      "[CV] END .....................................C=0.1, gamma=1; total time=   0.2s\n",
      "[CV] END .....................................C=0.1, gamma=1; total time=   0.2s\n",
      "[CV] END .....................................C=0.1, gamma=1; total time=   0.2s\n",
      "[CV] END .....................................C=0.1, gamma=1; total time=   0.2s\n",
      "[CV] END ...................................C=0.1, gamma=0.1; total time=   0.2s\n",
      "[CV] END ...................................C=0.1, gamma=0.1; total time=   0.2s\n",
      "[CV] END ...................................C=0.1, gamma=0.1; total time=   0.2s\n",
      "[CV] END ...................................C=0.1, gamma=0.1; total time=   0.2s\n",
      "[CV] END ...................................C=0.1, gamma=0.1; total time=   0.2s\n",
      "[CV] END ..................................C=0.1, gamma=0.01; total time=   0.1s\n",
      "[CV] END ..................................C=0.1, gamma=0.01; total time=   0.1s\n",
      "[CV] END ..................................C=0.1, gamma=0.01; total time=   0.1s\n",
      "[CV] END ..................................C=0.1, gamma=0.01; total time=   0.1s\n",
      "[CV] END ..................................C=0.1, gamma=0.01; total time=   0.1s\n",
      "[CV] END .................................C=0.1, gamma=0.001; total time=   0.2s\n",
      "[CV] END .................................C=0.1, gamma=0.001; total time=   0.2s\n",
      "[CV] END .................................C=0.1, gamma=0.001; total time=   0.2s\n",
      "[CV] END .................................C=0.1, gamma=0.001; total time=   0.2s\n",
      "[CV] END .................................C=0.1, gamma=0.001; total time=   0.2s\n",
      "[CV] END .......................................C=1, gamma=1; total time=   0.2s\n",
      "[CV] END .......................................C=1, gamma=1; total time=   0.2s\n",
      "[CV] END .......................................C=1, gamma=1; total time=   0.2s\n",
      "[CV] END .......................................C=1, gamma=1; total time=   0.2s\n",
      "[CV] END .......................................C=1, gamma=1; total time=   0.2s\n",
      "[CV] END .....................................C=1, gamma=0.1; total time=   0.2s\n",
      "[CV] END .....................................C=1, gamma=0.1; total time=   0.2s\n",
      "[CV] END .....................................C=1, gamma=0.1; total time=   0.2s\n",
      "[CV] END .....................................C=1, gamma=0.1; total time=   0.2s\n",
      "[CV] END .....................................C=1, gamma=0.1; total time=   0.2s\n",
      "[CV] END ....................................C=1, gamma=0.01; total time=   0.1s\n",
      "[CV] END ....................................C=1, gamma=0.01; total time=   0.1s\n",
      "[CV] END ....................................C=1, gamma=0.01; total time=   0.1s\n",
      "[CV] END ....................................C=1, gamma=0.01; total time=   0.1s\n",
      "[CV] END ....................................C=1, gamma=0.01; total time=   0.1s\n",
      "[CV] END ...................................C=1, gamma=0.001; total time=   0.1s\n",
      "[CV] END ...................................C=1, gamma=0.001; total time=   0.1s\n",
      "[CV] END ...................................C=1, gamma=0.001; total time=   0.1s\n",
      "[CV] END ...................................C=1, gamma=0.001; total time=   0.1s\n",
      "[CV] END ...................................C=1, gamma=0.001; total time=   0.1s\n",
      "[CV] END ......................................C=10, gamma=1; total time=   0.2s\n",
      "[CV] END ......................................C=10, gamma=1; total time=   0.2s\n",
      "[CV] END ......................................C=10, gamma=1; total time=   0.2s\n",
      "[CV] END ......................................C=10, gamma=1; total time=   0.2s\n",
      "[CV] END ......................................C=10, gamma=1; total time=   0.2s\n",
      "[CV] END ....................................C=10, gamma=0.1; total time=   0.2s\n",
      "[CV] END ....................................C=10, gamma=0.1; total time=   0.2s\n",
      "[CV] END ....................................C=10, gamma=0.1; total time=   0.2s\n",
      "[CV] END ....................................C=10, gamma=0.1; total time=   0.2s\n",
      "[CV] END ....................................C=10, gamma=0.1; total time=   0.2s\n",
      "[CV] END ...................................C=10, gamma=0.01; total time=   0.1s\n",
      "[CV] END ...................................C=10, gamma=0.01; total time=   0.1s\n",
      "[CV] END ...................................C=10, gamma=0.01; total time=   0.1s\n",
      "[CV] END ...................................C=10, gamma=0.01; total time=   0.1s\n",
      "[CV] END ...................................C=10, gamma=0.01; total time=   0.1s\n",
      "[CV] END ..................................C=10, gamma=0.001; total time=   0.1s\n",
      "[CV] END ..................................C=10, gamma=0.001; total time=   0.1s\n",
      "[CV] END ..................................C=10, gamma=0.001; total time=   0.1s\n",
      "[CV] END ..................................C=10, gamma=0.001; total time=   0.1s\n",
      "[CV] END ..................................C=10, gamma=0.001; total time=   0.1s\n",
      "[CV] END .....................................C=100, gamma=1; total time=   0.2s\n",
      "[CV] END .....................................C=100, gamma=1; total time=   0.2s\n",
      "[CV] END .....................................C=100, gamma=1; total time=   0.2s\n",
      "[CV] END .....................................C=100, gamma=1; total time=   0.2s\n",
      "[CV] END .....................................C=100, gamma=1; total time=   0.2s\n",
      "[CV] END ...................................C=100, gamma=0.1; total time=   0.2s\n",
      "[CV] END ...................................C=100, gamma=0.1; total time=   0.2s\n",
      "[CV] END ...................................C=100, gamma=0.1; total time=   0.2s\n",
      "[CV] END ...................................C=100, gamma=0.1; total time=   0.2s\n",
      "[CV] END ...................................C=100, gamma=0.1; total time=   0.2s\n",
      "[CV] END ..................................C=100, gamma=0.01; total time=   0.1s\n",
      "[CV] END ..................................C=100, gamma=0.01; total time=   0.1s\n",
      "[CV] END ..................................C=100, gamma=0.01; total time=   0.1s\n",
      "[CV] END ..................................C=100, gamma=0.01; total time=   0.1s\n",
      "[CV] END ..................................C=100, gamma=0.01; total time=   0.1s\n",
      "[CV] END .................................C=100, gamma=0.001; total time=   0.1s\n",
      "[CV] END .................................C=100, gamma=0.001; total time=   0.1s\n",
      "[CV] END .................................C=100, gamma=0.001; total time=   0.1s\n",
      "[CV] END .................................C=100, gamma=0.001; total time=   0.1s\n",
      "[CV] END .................................C=100, gamma=0.001; total time=   0.1s\n"
     ]
    },
    {
     "data": {
      "text/plain": [
       "GridSearchCV(estimator=SVC(),\n",
       "             param_grid={'C': [0.1, 1, 10, 100],\n",
       "                         'gamma': [1, 0.1, 0.01, 0.001]},\n",
       "             verbose=2)"
      ]
     },
     "execution_count": 162,
     "metadata": {},
     "output_type": "execute_result"
    }
   ],
   "source": [
    "from sklearn.model_selection import GridSearchCV\n",
    "param_grid = {'C': [0.1,1, 10, 100], 'gamma': [1,0.1,0.01,0.001]} \n",
    "grid = GridSearchCV(SVC(),param_grid,refit=True,verbose=2)\n",
    "grid.fit(x_train,y_train)"
   ]
  },
  {
   "cell_type": "code",
   "execution_count": 163,
   "id": "0227af19",
   "metadata": {},
   "outputs": [],
   "source": [
    "grid_predictions = grid.predict(x_test)"
   ]
  },
  {
   "cell_type": "code",
   "execution_count": 164,
   "id": "86d45ec3",
   "metadata": {},
   "outputs": [
    {
     "name": "stdout",
     "output_type": "stream",
     "text": [
      "              precision    recall  f1-score   support\n",
      "\n",
      "           0       0.88      0.90      0.89       361\n",
      "           1       0.89      0.87      0.88       355\n",
      "\n",
      "    accuracy                           0.88       716\n",
      "   macro avg       0.88      0.88      0.88       716\n",
      "weighted avg       0.88      0.88      0.88       716\n",
      "\n"
     ]
    }
   ],
   "source": [
    "print(classification_report(y_test,grid_predictions))"
   ]
  },
  {
   "cell_type": "code",
   "execution_count": 171,
   "id": "4e0486d5",
   "metadata": {},
   "outputs": [
    {
     "name": "stdout",
     "output_type": "stream",
     "text": [
      "Best parameters: {'C': 10, 'gamma': 0.01}\n"
     ]
    }
   ],
   "source": [
    "print(\"Best parameters:\", grid.best_params_)"
   ]
  },
  {
   "cell_type": "markdown",
   "id": "2209e510",
   "metadata": {},
   "source": [
    " SVM could not beat the Random forest"
   ]
  },
  {
   "cell_type": "markdown",
   "id": "aff7bab5",
   "metadata": {},
   "source": [
    "### Model building part conclusion:  F1 score is used to compared models since it is category classfication , \n",
    "<br> logistic regression has a F1 score of 86%, <br>SVM has F1 score of 88% with c = 10 and gamma = 0.01 <br> with Random forest it could reach 90%, so **Random forest** is the best model"
   ]
  },
  {
   "attachments": {},
   "cell_type": "markdown",
   "id": "bb94b7ce",
   "metadata": {},
   "source": [
    "# Conclusion\n",
    "# 1. business Case\n",
    "Two questions are asked from the bussiness side I will answer the question first\n",
    "1.\tWhat are the drivers of attrition?\n",
    "**OT is yes** are affecting the attrition,  then are **years at company**, **years since last promtion** and **num companines worked**,  jobs like **Sales representive** have a high attrition ,which is found from coefficient of logistic regression coefficient, with high positivie values, it means the key driver of attrition <br>\n",
    " <br>\n",
    "2.\tCan we predict if an employee will leave the company? <br>\n",
    "\n",
    "I think with a predicition rate of 90 could say that we could predict whether an employee will leave the company.\n",
    "\n",
    "## 2. Recommendation\n",
    "I think the company should give old employees(interms of year worked at company) more benefits and promotions because with their expirences they could pursue a better job that's why they choose to leave their original company and it is also because of no promotion after a long time working with the employee.  in addition, over time shoudl be cancelled from the company those with over time have to put more time on work that's why they are all leaving to find a balance life. <br>\n",
    "Jobs with high turnover rate such as sales representitive should be treat better they have a low monthly income maybe increase in salary will keep them"
   ]
  }
 ],
 "metadata": {
  "kernelspec": {
   "display_name": "Python 3 (ipykernel)",
   "language": "python",
   "name": "python3"
  },
  "language_info": {
   "codemirror_mode": {
    "name": "ipython",
    "version": 3
   },
   "file_extension": ".py",
   "mimetype": "text/x-python",
   "name": "python",
   "nbconvert_exporter": "python",
   "pygments_lexer": "ipython3",
   "version": "3.9.12"
  }
 },
 "nbformat": 4,
 "nbformat_minor": 5
}
